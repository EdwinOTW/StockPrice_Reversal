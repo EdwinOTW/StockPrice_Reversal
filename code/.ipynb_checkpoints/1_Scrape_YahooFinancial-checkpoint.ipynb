{
 "cells": [
  {
   "cell_type": "markdown",
   "metadata": {},
   "source": [
    "# Problem Statement"
   ]
  },
  {
   "cell_type": "markdown",
   "metadata": {},
   "source": [
    "In the financial markets, traders have always said, Buy low and Sell High (Motto of the Century)\n",
    "\n",
    "However, the problem that everyone faces in the investing/trading world is, at any given moment, we are all questioning, is this really the lowest price now and we should buy the stock now / is this really the highest price now and we should sell the stock to take profit or short the stock?\n",
    "\n",
    "In this project, I am going to solve this problem and identify the reversal points (buy/sell points) for a few selected stocks."
   ]
  },
  {
   "cell_type": "markdown",
   "metadata": {},
   "source": [
    "# Scraping Yahoo Financial"
   ]
  },
  {
   "cell_type": "code",
   "execution_count": 1,
   "metadata": {
    "ExecuteTime": {
     "end_time": "2019-11-19T00:56:42.566256Z",
     "start_time": "2019-11-19T00:56:40.696678Z"
    }
   },
   "outputs": [],
   "source": [
    "import requests\n",
    "import pandas as pd\n",
    "import numpy as np\n",
    "import time\n",
    "import random\n",
    "\n",
    "import ta\n",
    "\n",
    "import matplotlib.pyplot as plt\n",
    "import seaborn as sns\n",
    "%matplotlib inline \n",
    "sns.set_style('whitegrid')"
   ]
  },
  {
   "cell_type": "markdown",
   "metadata": {},
   "source": [
    "Epoch Time 4 years = 126230400"
   ]
  },
  {
   "cell_type": "markdown",
   "metadata": {},
   "source": [
    "# Initial Data Scraping "
   ]
  },
  {
   "cell_type": "code",
   "execution_count": 3,
   "metadata": {
    "ExecuteTime": {
     "end_time": "2019-11-19T00:56:42.575834Z",
     "start_time": "2019-11-19T00:56:42.573024Z"
    }
   },
   "outputs": [],
   "source": [
    "# Get current timestamp (Epoch) Function\n",
    "def get_current_time():\n",
    "    current_time = round(time.time(),-2) # current epoch time round of to nearest 100\n",
    "    four_years_ago = current_time - 126230400 # 59 days ago epoch time\n",
    "    return current_time, four_years_ago"
   ]
  },
  {
   "cell_type": "code",
   "execution_count": 4,
   "metadata": {
    "ExecuteTime": {
     "end_time": "2019-11-19T00:56:42.589473Z",
     "start_time": "2019-11-19T00:56:42.577927Z"
    }
   },
   "outputs": [],
   "source": [
    "# Scrape Data from Yahoo\n",
    "def scrape_yahoo(ticker, current_time, four_years_ago):\n",
    "    # Create Empty DataFrame\n",
    "    main_df = pd.DataFrame()\n",
    "    \n",
    "    for co in ticker: # Iterate through each ticker\n",
    "        url = 'https://query1.finance.yahoo.com/v8/finance/chart/{0}?symbol={0}&period1={1}&period2={2}&interval=1d&includePrePost=true&events=div|split|earn&lang=en-SG&region=SG&crumb=JPWLPNPkK0e&corsDomain=sg.finance.yahoo.com'.format(co, int(four_years_ago), int(current_time))\n",
    "        res=requests.get(url)\n",
    "        print(url)\n",
    "        print('-'*40)\n",
    "        \n",
    "        # Check Status Code\n",
    "        if res.status_code != 200:\n",
    "            print(\"Error\",res.status_code)\n",
    "            break\n",
    "        \n",
    "        # Extract Financial Data\n",
    "        finance_data = res.json() #Save JSON into dict\n",
    "        ts = finance_data['chart']['result'][0]['timestamp'] # TimeStamp Data\n",
    "        closed = finance_data['chart']['result'][0]['indicators']['quote'][0]['close'] # Close Price Data\n",
    "        opened = finance_data['chart']['result'][0]['indicators']['quote'][0]['open'] # Open Price Data\n",
    "        low = finance_data['chart']['result'][0]['indicators']['quote'][0]['low'] # Low Price Data\n",
    "        high = finance_data['chart']['result'][0]['indicators']['quote'][0]['high'] # High Price Data\n",
    "        volume = finance_data['chart']['result'][0]['indicators']['quote'][0]['volume'] # Volume Data\n",
    "        localtime = '' # set localtime as null\n",
    "        \n",
    "        # Create DataFrame from data\n",
    "        df = pd.DataFrame({\n",
    "            'stock': co,\n",
    "            'time': ts,\n",
    "            'close_price': closed,\n",
    "            'open_price': opened,\n",
    "            'lowest_price': low,\n",
    "            'highest_price': high,\n",
    "            'volume': volume,\n",
    "            'local_time': localtime\n",
    "            })\n",
    "        main_df = main_df.append(df).reset_index(drop=True)\n",
    "        \n",
    "    return main_df"
   ]
  },
  {
   "cell_type": "code",
   "execution_count": 5,
   "metadata": {
    "ExecuteTime": {
     "end_time": "2019-11-19T00:56:42.594407Z",
     "start_time": "2019-11-19T00:56:42.591252Z"
    }
   },
   "outputs": [],
   "source": [
    "# Function to create column\n",
    "def set_time(df, col = 'time'):\n",
    "    x = time.strftime('%m/%d/%Y %H:%M:%S', time.localtime(df[col]))\n",
    "    return x"
   ]
  },
  {
   "cell_type": "markdown",
   "metadata": {},
   "source": [
    "# Cleaning Data"
   ]
  },
  {
   "cell_type": "code",
   "execution_count": 6,
   "metadata": {
    "ExecuteTime": {
     "end_time": "2019-11-19T00:56:42.600944Z",
     "start_time": "2019-11-19T00:56:42.595926Z"
    }
   },
   "outputs": [],
   "source": [
    "# Clean up DataFrame\n",
    "def clean_data(data):\n",
    "    # Drop all rows with volume == 0. We do not need premarket/postmarket data since we cant trade during these hours\n",
    "    data = data[data['volume']!=0]\n",
    "    \n",
    "    # Drop Duplicates\n",
    "    data = data.drop_duplicates(subset=['stock', 'time'], keep = 'last')\n",
    "    \n",
    "    # Drop Null Values\n",
    "    data = data.dropna()\n",
    "    \n",
    "    # Sort by ticker symbol and time\n",
    "    data = data.sort_values(by = ['stock','time']).reset_index(drop=True)\n",
    "    \n",
    "    # Create New Column for localtime\n",
    "    for i, epoch in enumerate(data['time']):\n",
    "        if data['local_time'][i] == '':\n",
    "            data['local_time'][i] = time.strftime('%m/%d/%Y %H:%M:%S', time.localtime(epoch))\n",
    "            \n",
    "    # Change local_time datatype from object to date time\n",
    "    data['local_time'] = pd.to_datetime(data['local_time'])\n",
    "    \n",
    "    return data"
   ]
  },
  {
   "cell_type": "code",
   "execution_count": 7,
   "metadata": {
    "ExecuteTime": {
     "end_time": "2019-11-19T00:56:42.606267Z",
     "start_time": "2019-11-19T00:56:42.602353Z"
    }
   },
   "outputs": [],
   "source": [
    "# Combine Scraped Stocks with current dataset\n",
    "def scraper(ticker):\n",
    "    \n",
    "    # CHECK IF THERE IS ALREADY A CSV FILE\n",
    "    try:\n",
    "        all_df = pd.read_csv('../datasets/technical_data.csv')\n",
    "    except:\n",
    "        # Create empty dataframe if there is no csv file\n",
    "        all_df = pd.DataFrame()\n",
    "        print(\"No Dataset yet\")\n",
    "    \n",
    "    # Get Current time and last day of scraping\n",
    "    current_time, four_years_ago = get_current_time()\n",
    "    \n",
    "    # Get DataFrame of Scraped Stocks\n",
    "    scraped_df = scrape_yahoo(ticker, current_time, four_years_ago)\n",
    "    \n",
    "    # Combine current data with scraped data\n",
    "    all_df = all_df.append(scraped_df).reset_index(drop=True)\n",
    "    \n",
    "    # Clean DataFrame\n",
    "    cleaned_df = clean_data(all_df)\n",
    "    \n",
    "    # Save DataFrame to CSV\n",
    "    cleaned_df.to_csv('../datasets/technical_data.csv', index = False)\n",
    "    \n",
    "    return cleaned_df    "
   ]
  },
  {
   "cell_type": "code",
   "execution_count": 8,
   "metadata": {
    "ExecuteTime": {
     "end_time": "2019-11-19T00:57:34.216704Z",
     "start_time": "2019-11-19T00:56:42.608876Z"
    },
    "scrolled": true
   },
   "outputs": [
    {
     "name": "stdout",
     "output_type": "stream",
     "text": [
      "No Dataset yet\n",
      "https://query1.finance.yahoo.com/v8/finance/chart/AAPL?symbol=AAPL&period1=1449209000&period2=1575439400&interval=1d&includePrePost=true&events=div|split|earn&lang=en-SG&region=SG&crumb=JPWLPNPkK0e&corsDomain=sg.finance.yahoo.com\n",
      "----------------------------------------\n",
      "https://query1.finance.yahoo.com/v8/finance/chart/FB?symbol=FB&period1=1449209000&period2=1575439400&interval=1d&includePrePost=true&events=div|split|earn&lang=en-SG&region=SG&crumb=JPWLPNPkK0e&corsDomain=sg.finance.yahoo.com\n",
      "----------------------------------------\n",
      "https://query1.finance.yahoo.com/v8/finance/chart/V?symbol=V&period1=1449209000&period2=1575439400&interval=1d&includePrePost=true&events=div|split|earn&lang=en-SG&region=SG&crumb=JPWLPNPkK0e&corsDomain=sg.finance.yahoo.com\n",
      "----------------------------------------\n",
      "https://query1.finance.yahoo.com/v8/finance/chart/INTC?symbol=INTC&period1=1449209000&period2=1575439400&interval=1d&includePrePost=true&events=div|split|earn&lang=en-SG&region=SG&crumb=JPWLPNPkK0e&corsDomain=sg.finance.yahoo.com\n",
      "----------------------------------------\n",
      "https://query1.finance.yahoo.com/v8/finance/chart/DIS?symbol=DIS&period1=1449209000&period2=1575439400&interval=1d&includePrePost=true&events=div|split|earn&lang=en-SG&region=SG&crumb=JPWLPNPkK0e&corsDomain=sg.finance.yahoo.com\n",
      "----------------------------------------\n",
      "https://query1.finance.yahoo.com/v8/finance/chart/CRM?symbol=CRM&period1=1449209000&period2=1575439400&interval=1d&includePrePost=true&events=div|split|earn&lang=en-SG&region=SG&crumb=JPWLPNPkK0e&corsDomain=sg.finance.yahoo.com\n",
      "----------------------------------------\n",
      "https://query1.finance.yahoo.com/v8/finance/chart/NKE?symbol=NKE&period1=1449209000&period2=1575439400&interval=1d&includePrePost=true&events=div|split|earn&lang=en-SG&region=SG&crumb=JPWLPNPkK0e&corsDomain=sg.finance.yahoo.com\n",
      "----------------------------------------\n",
      "https://query1.finance.yahoo.com/v8/finance/chart/GM?symbol=GM&period1=1449209000&period2=1575439400&interval=1d&includePrePost=true&events=div|split|earn&lang=en-SG&region=SG&crumb=JPWLPNPkK0e&corsDomain=sg.finance.yahoo.com\n",
      "----------------------------------------\n",
      "https://query1.finance.yahoo.com/v8/finance/chart/TWTR?symbol=TWTR&period1=1449209000&period2=1575439400&interval=1d&includePrePost=true&events=div|split|earn&lang=en-SG&region=SG&crumb=JPWLPNPkK0e&corsDomain=sg.finance.yahoo.com\n",
      "----------------------------------------\n",
      "https://query1.finance.yahoo.com/v8/finance/chart/TRIP?symbol=TRIP&period1=1449209000&period2=1575439400&interval=1d&includePrePost=true&events=div|split|earn&lang=en-SG&region=SG&crumb=JPWLPNPkK0e&corsDomain=sg.finance.yahoo.com\n",
      "----------------------------------------\n"
     ]
    },
    {
     "name": "stderr",
     "output_type": "stream",
     "text": [
      "/Users/edwinotw/anaconda3/lib/python3.7/site-packages/ipykernel_launcher.py:19: SettingWithCopyWarning: \n",
      "A value is trying to be set on a copy of a slice from a DataFrame\n",
      "\n",
      "See the caveats in the documentation: http://pandas.pydata.org/pandas-docs/stable/indexing.html#indexing-view-versus-copy\n"
     ]
    },
    {
     "data": {
      "text/html": [
       "<div>\n",
       "<style scoped>\n",
       "    .dataframe tbody tr th:only-of-type {\n",
       "        vertical-align: middle;\n",
       "    }\n",
       "\n",
       "    .dataframe tbody tr th {\n",
       "        vertical-align: top;\n",
       "    }\n",
       "\n",
       "    .dataframe thead th {\n",
       "        text-align: right;\n",
       "    }\n",
       "</style>\n",
       "<table border=\"1\" class=\"dataframe\">\n",
       "  <thead>\n",
       "    <tr style=\"text-align: right;\">\n",
       "      <th></th>\n",
       "      <th>stock</th>\n",
       "      <th>time</th>\n",
       "      <th>close_price</th>\n",
       "      <th>open_price</th>\n",
       "      <th>lowest_price</th>\n",
       "      <th>highest_price</th>\n",
       "      <th>volume</th>\n",
       "      <th>local_time</th>\n",
       "    </tr>\n",
       "  </thead>\n",
       "  <tbody>\n",
       "    <tr>\n",
       "      <th>10055</th>\n",
       "      <td>V</td>\n",
       "      <td>1574778600</td>\n",
       "      <td>182.550003</td>\n",
       "      <td>181.460007</td>\n",
       "      <td>181.210007</td>\n",
       "      <td>182.919998</td>\n",
       "      <td>7079000</td>\n",
       "      <td>2019-11-26 22:30:00</td>\n",
       "    </tr>\n",
       "    <tr>\n",
       "      <th>10056</th>\n",
       "      <td>V</td>\n",
       "      <td>1574865000</td>\n",
       "      <td>184.369995</td>\n",
       "      <td>183.000000</td>\n",
       "      <td>182.259995</td>\n",
       "      <td>184.539993</td>\n",
       "      <td>11452700</td>\n",
       "      <td>2019-11-27 22:30:00</td>\n",
       "    </tr>\n",
       "    <tr>\n",
       "      <th>10057</th>\n",
       "      <td>V</td>\n",
       "      <td>1575037800</td>\n",
       "      <td>184.509995</td>\n",
       "      <td>183.929993</td>\n",
       "      <td>183.360001</td>\n",
       "      <td>184.850006</td>\n",
       "      <td>3139100</td>\n",
       "      <td>2019-11-29 22:30:00</td>\n",
       "    </tr>\n",
       "    <tr>\n",
       "      <th>10058</th>\n",
       "      <td>V</td>\n",
       "      <td>1575297000</td>\n",
       "      <td>181.789993</td>\n",
       "      <td>184.240005</td>\n",
       "      <td>179.869995</td>\n",
       "      <td>184.369995</td>\n",
       "      <td>6883200</td>\n",
       "      <td>2019-12-02 22:30:00</td>\n",
       "    </tr>\n",
       "    <tr>\n",
       "      <th>10059</th>\n",
       "      <td>V</td>\n",
       "      <td>1575383400</td>\n",
       "      <td>181.899994</td>\n",
       "      <td>179.899994</td>\n",
       "      <td>179.660004</td>\n",
       "      <td>182.139999</td>\n",
       "      <td>4543300</td>\n",
       "      <td>2019-12-03 22:30:00</td>\n",
       "    </tr>\n",
       "  </tbody>\n",
       "</table>\n",
       "</div>"
      ],
      "text/plain": [
       "      stock        time  close_price  open_price  lowest_price  highest_price  \\\n",
       "10055     V  1574778600   182.550003  181.460007    181.210007     182.919998   \n",
       "10056     V  1574865000   184.369995  183.000000    182.259995     184.539993   \n",
       "10057     V  1575037800   184.509995  183.929993    183.360001     184.850006   \n",
       "10058     V  1575297000   181.789993  184.240005    179.869995     184.369995   \n",
       "10059     V  1575383400   181.899994  179.899994    179.660004     182.139999   \n",
       "\n",
       "         volume          local_time  \n",
       "10055   7079000 2019-11-26 22:30:00  \n",
       "10056  11452700 2019-11-27 22:30:00  \n",
       "10057   3139100 2019-11-29 22:30:00  \n",
       "10058   6883200 2019-12-02 22:30:00  \n",
       "10059   4543300 2019-12-03 22:30:00  "
      ]
     },
     "execution_count": 8,
     "metadata": {},
     "output_type": "execute_result"
    }
   ],
   "source": [
    "# Scrape the Website\n",
    "ticks = ['AAPL', 'FB', \"V\", 'INTC', 'DIS', 'CRM', 'NKE', 'GM', 'TWTR', 'TRIP']\n",
    "df = scraper(ticks)"
   ]
  },
  {
   "cell_type": "code",
   "execution_count": 9,
   "metadata": {
    "ExecuteTime": {
     "end_time": "2019-11-19T00:57:34.237995Z",
     "start_time": "2019-11-19T00:57:34.219233Z"
    }
   },
   "outputs": [
    {
     "name": "stdout",
     "output_type": "stream",
     "text": [
      "<class 'pandas.core.frame.DataFrame'>\n",
      "RangeIndex: 10060 entries, 0 to 10059\n",
      "Data columns (total 8 columns):\n",
      "stock            10060 non-null object\n",
      "time             10060 non-null int64\n",
      "close_price      10060 non-null float64\n",
      "open_price       10060 non-null float64\n",
      "lowest_price     10060 non-null float64\n",
      "highest_price    10060 non-null float64\n",
      "volume           10060 non-null int64\n",
      "local_time       10060 non-null datetime64[ns]\n",
      "dtypes: datetime64[ns](1), float64(4), int64(2), object(1)\n",
      "memory usage: 628.8+ KB\n"
     ]
    }
   ],
   "source": [
    "df.info()"
   ]
  },
  {
   "cell_type": "markdown",
   "metadata": {},
   "source": [
    "# Pre-Processing"
   ]
  },
  {
   "cell_type": "markdown",
   "metadata": {},
   "source": [
    "## Label Classificaton"
   ]
  },
  {
   "cell_type": "markdown",
   "metadata": {},
   "source": [
    "### Label Whether the Observation went up or down in Closing Price"
   ]
  },
  {
   "cell_type": "code",
   "execution_count": 10,
   "metadata": {
    "ExecuteTime": {
     "end_time": "2019-11-19T00:57:34.243118Z",
     "start_time": "2019-11-19T00:57:34.239562Z"
    }
   },
   "outputs": [],
   "source": [
    "# Function to Label whether each observation is a gain/lose/neutral\n",
    "def label_gain(data, closed, opened):\n",
    "    df['gain'] = ''\n",
    "    df.loc[(closed > opened), 'gain'] = 1\n",
    "    df.loc[(closed < opened), 'gain'] = -1\n",
    "    df.loc[(closed == opened), 'gain'] = 0\n",
    "    \n",
    "    return df"
   ]
  },
  {
   "cell_type": "code",
   "execution_count": 11,
   "metadata": {
    "ExecuteTime": {
     "end_time": "2019-11-19T00:57:36.460604Z",
     "start_time": "2019-11-19T00:57:34.244688Z"
    }
   },
   "outputs": [],
   "source": [
    "# Creating Column gain\n",
    "df = label_gain(df, df['close_price'], df['open_price'])"
   ]
  },
  {
   "cell_type": "markdown",
   "metadata": {},
   "source": [
    "### Label the Target Variable"
   ]
  },
  {
   "cell_type": "markdown",
   "metadata": {},
   "source": [
    "#### Creating Extra Features to Assist in Labeling the Target Variable"
   ]
  },
  {
   "cell_type": "code",
   "execution_count": 12,
   "metadata": {
    "ExecuteTime": {
     "end_time": "2019-11-19T00:57:36.483340Z",
     "start_time": "2019-11-19T00:57:36.462083Z"
    }
   },
   "outputs": [
    {
     "data": {
      "text/html": [
       "<div>\n",
       "<style scoped>\n",
       "    .dataframe tbody tr th:only-of-type {\n",
       "        vertical-align: middle;\n",
       "    }\n",
       "\n",
       "    .dataframe tbody tr th {\n",
       "        vertical-align: top;\n",
       "    }\n",
       "\n",
       "    .dataframe thead th {\n",
       "        text-align: right;\n",
       "    }\n",
       "</style>\n",
       "<table border=\"1\" class=\"dataframe\">\n",
       "  <thead>\n",
       "    <tr style=\"text-align: right;\">\n",
       "      <th></th>\n",
       "      <th>stock</th>\n",
       "      <th>time</th>\n",
       "      <th>close_price</th>\n",
       "      <th>open_price</th>\n",
       "      <th>lowest_price</th>\n",
       "      <th>highest_price</th>\n",
       "      <th>volume</th>\n",
       "      <th>local_time</th>\n",
       "      <th>gain</th>\n",
       "      <th>ema_3</th>\n",
       "    </tr>\n",
       "  </thead>\n",
       "  <tbody>\n",
       "    <tr>\n",
       "      <th>0</th>\n",
       "      <td>AAPL</td>\n",
       "      <td>1449239400</td>\n",
       "      <td>119.029999</td>\n",
       "      <td>115.290001</td>\n",
       "      <td>115.110001</td>\n",
       "      <td>119.250000</td>\n",
       "      <td>57777000</td>\n",
       "      <td>2015-12-04 22:30:00</td>\n",
       "      <td>1</td>\n",
       "      <td>119.029999</td>\n",
       "    </tr>\n",
       "    <tr>\n",
       "      <th>1</th>\n",
       "      <td>AAPL</td>\n",
       "      <td>1449498600</td>\n",
       "      <td>118.279999</td>\n",
       "      <td>118.980003</td>\n",
       "      <td>117.809998</td>\n",
       "      <td>119.860001</td>\n",
       "      <td>32084200</td>\n",
       "      <td>2015-12-07 22:30:00</td>\n",
       "      <td>-1</td>\n",
       "      <td>118.654999</td>\n",
       "    </tr>\n",
       "    <tr>\n",
       "      <th>2</th>\n",
       "      <td>AAPL</td>\n",
       "      <td>1449585000</td>\n",
       "      <td>118.230003</td>\n",
       "      <td>117.519997</td>\n",
       "      <td>116.860001</td>\n",
       "      <td>118.599998</td>\n",
       "      <td>34309500</td>\n",
       "      <td>2015-12-08 22:30:00</td>\n",
       "      <td>1</td>\n",
       "      <td>118.442501</td>\n",
       "    </tr>\n",
       "    <tr>\n",
       "      <th>3</th>\n",
       "      <td>AAPL</td>\n",
       "      <td>1449671400</td>\n",
       "      <td>115.620003</td>\n",
       "      <td>117.639999</td>\n",
       "      <td>115.080002</td>\n",
       "      <td>117.690002</td>\n",
       "      <td>46361400</td>\n",
       "      <td>2015-12-09 22:30:00</td>\n",
       "      <td>-1</td>\n",
       "      <td>117.031252</td>\n",
       "    </tr>\n",
       "    <tr>\n",
       "      <th>4</th>\n",
       "      <td>AAPL</td>\n",
       "      <td>1449757800</td>\n",
       "      <td>116.169998</td>\n",
       "      <td>116.040001</td>\n",
       "      <td>115.510002</td>\n",
       "      <td>116.940002</td>\n",
       "      <td>29212700</td>\n",
       "      <td>2015-12-10 22:30:00</td>\n",
       "      <td>1</td>\n",
       "      <td>116.600625</td>\n",
       "    </tr>\n",
       "  </tbody>\n",
       "</table>\n",
       "</div>"
      ],
      "text/plain": [
       "  stock        time  close_price  open_price  lowest_price  highest_price  \\\n",
       "0  AAPL  1449239400   119.029999  115.290001    115.110001     119.250000   \n",
       "1  AAPL  1449498600   118.279999  118.980003    117.809998     119.860001   \n",
       "2  AAPL  1449585000   118.230003  117.519997    116.860001     118.599998   \n",
       "3  AAPL  1449671400   115.620003  117.639999    115.080002     117.690002   \n",
       "4  AAPL  1449757800   116.169998  116.040001    115.510002     116.940002   \n",
       "\n",
       "     volume          local_time  gain       ema_3  \n",
       "0  57777000 2015-12-04 22:30:00     1  119.029999  \n",
       "1  32084200 2015-12-07 22:30:00    -1  118.654999  \n",
       "2  34309500 2015-12-08 22:30:00     1  118.442501  \n",
       "3  46361400 2015-12-09 22:30:00    -1  117.031252  \n",
       "4  29212700 2015-12-10 22:30:00     1  116.600625  "
      ]
     },
     "execution_count": 12,
     "metadata": {},
     "output_type": "execute_result"
    }
   ],
   "source": [
    "# Create EMA(3) Columns for labeling\n",
    "df['ema_3'] = ta.trend.ema_indicator(close = df['close_price'], n=3, fillna=True)\n",
    "df.head()"
   ]
  },
  {
   "cell_type": "code",
   "execution_count": 13,
   "metadata": {
    "ExecuteTime": {
     "end_time": "2019-11-19T00:57:36.556842Z",
     "start_time": "2019-11-19T00:57:36.485679Z"
    }
   },
   "outputs": [
    {
     "data": {
      "text/html": [
       "<div>\n",
       "<style scoped>\n",
       "    .dataframe tbody tr th:only-of-type {\n",
       "        vertical-align: middle;\n",
       "    }\n",
       "\n",
       "    .dataframe tbody tr th {\n",
       "        vertical-align: top;\n",
       "    }\n",
       "\n",
       "    .dataframe thead th {\n",
       "        text-align: right;\n",
       "    }\n",
       "</style>\n",
       "<table border=\"1\" class=\"dataframe\">\n",
       "  <thead>\n",
       "    <tr style=\"text-align: right;\">\n",
       "      <th></th>\n",
       "      <th>stock</th>\n",
       "      <th>time</th>\n",
       "      <th>close_price</th>\n",
       "      <th>open_price</th>\n",
       "      <th>lowest_price</th>\n",
       "      <th>highest_price</th>\n",
       "      <th>volume</th>\n",
       "      <th>local_time</th>\n",
       "      <th>gain</th>\n",
       "      <th>ema_3</th>\n",
       "      <th>pct_change_1</th>\n",
       "      <th>pct_change_2</th>\n",
       "      <th>pct_change_3</th>\n",
       "      <th>pct_change_4</th>\n",
       "      <th>pct_change_5</th>\n",
       "      <th>pct_change_6</th>\n",
       "      <th>pct_change_7</th>\n",
       "      <th>pct_change_8</th>\n",
       "      <th>pct_change_9</th>\n",
       "      <th>pct_change_10</th>\n",
       "    </tr>\n",
       "  </thead>\n",
       "  <tbody>\n",
       "    <tr>\n",
       "      <th>0</th>\n",
       "      <td>AAPL</td>\n",
       "      <td>1449239400</td>\n",
       "      <td>119.029999</td>\n",
       "      <td>115.290001</td>\n",
       "      <td>115.110001</td>\n",
       "      <td>119.250000</td>\n",
       "      <td>57777000</td>\n",
       "      <td>2015-12-04 22:30:00</td>\n",
       "      <td>1</td>\n",
       "      <td>119.029999</td>\n",
       "      <td>0.634089</td>\n",
       "      <td>0.676643</td>\n",
       "      <td>2.949313</td>\n",
       "      <td>2.461910</td>\n",
       "      <td>5.168756</td>\n",
       "      <td>5.823253</td>\n",
       "      <td>7.729207</td>\n",
       "      <td>6.906774</td>\n",
       "      <td>9.221871</td>\n",
       "      <td>12.260681</td>\n",
       "    </tr>\n",
       "    <tr>\n",
       "      <th>1</th>\n",
       "      <td>AAPL</td>\n",
       "      <td>1449498600</td>\n",
       "      <td>118.279999</td>\n",
       "      <td>118.980003</td>\n",
       "      <td>117.809998</td>\n",
       "      <td>119.860001</td>\n",
       "      <td>32084200</td>\n",
       "      <td>2015-12-07 22:30:00</td>\n",
       "      <td>-1</td>\n",
       "      <td>118.654999</td>\n",
       "      <td>0.042287</td>\n",
       "      <td>2.300637</td>\n",
       "      <td>1.816304</td>\n",
       "      <td>4.506095</td>\n",
       "      <td>5.156468</td>\n",
       "      <td>7.050413</td>\n",
       "      <td>6.233162</td>\n",
       "      <td>8.533671</td>\n",
       "      <td>11.553334</td>\n",
       "      <td>10.202177</td>\n",
       "    </tr>\n",
       "    <tr>\n",
       "      <th>2</th>\n",
       "      <td>AAPL</td>\n",
       "      <td>1449585000</td>\n",
       "      <td>118.230003</td>\n",
       "      <td>117.519997</td>\n",
       "      <td>116.860001</td>\n",
       "      <td>118.599998</td>\n",
       "      <td>34309500</td>\n",
       "      <td>2015-12-08 22:30:00</td>\n",
       "      <td>1</td>\n",
       "      <td>118.442501</td>\n",
       "      <td>2.257395</td>\n",
       "      <td>1.773268</td>\n",
       "      <td>4.461922</td>\n",
       "      <td>5.112020</td>\n",
       "      <td>7.005164</td>\n",
       "      <td>6.188259</td>\n",
       "      <td>8.487796</td>\n",
       "      <td>11.506182</td>\n",
       "      <td>10.155596</td>\n",
       "      <td>10.258323</td>\n",
       "    </tr>\n",
       "    <tr>\n",
       "      <th>3</th>\n",
       "      <td>AAPL</td>\n",
       "      <td>1449671400</td>\n",
       "      <td>115.620003</td>\n",
       "      <td>117.639999</td>\n",
       "      <td>115.080002</td>\n",
       "      <td>117.690002</td>\n",
       "      <td>46361400</td>\n",
       "      <td>2015-12-09 22:30:00</td>\n",
       "      <td>-1</td>\n",
       "      <td>117.031252</td>\n",
       "      <td>-0.473440</td>\n",
       "      <td>2.155860</td>\n",
       "      <td>2.791607</td>\n",
       "      <td>4.642959</td>\n",
       "      <td>3.844087</td>\n",
       "      <td>6.092860</td>\n",
       "      <td>9.044614</td>\n",
       "      <td>7.723843</td>\n",
       "      <td>7.824302</td>\n",
       "      <td>6.454288</td>\n",
       "    </tr>\n",
       "    <tr>\n",
       "      <th>4</th>\n",
       "      <td>AAPL</td>\n",
       "      <td>1449757800</td>\n",
       "      <td>116.169998</td>\n",
       "      <td>116.040001</td>\n",
       "      <td>115.510002</td>\n",
       "      <td>116.940002</td>\n",
       "      <td>29212700</td>\n",
       "      <td>2015-12-10 22:30:00</td>\n",
       "      <td>1</td>\n",
       "      <td>116.600625</td>\n",
       "      <td>2.641808</td>\n",
       "      <td>3.280579</td>\n",
       "      <td>5.140737</td>\n",
       "      <td>4.338065</td>\n",
       "      <td>6.597536</td>\n",
       "      <td>9.563331</td>\n",
       "      <td>8.236277</td>\n",
       "      <td>8.337214</td>\n",
       "      <td>6.960683</td>\n",
       "      <td>7.534944</td>\n",
       "    </tr>\n",
       "  </tbody>\n",
       "</table>\n",
       "</div>"
      ],
      "text/plain": [
       "  stock        time  close_price  open_price  lowest_price  highest_price  \\\n",
       "0  AAPL  1449239400   119.029999  115.290001    115.110001     119.250000   \n",
       "1  AAPL  1449498600   118.279999  118.980003    117.809998     119.860001   \n",
       "2  AAPL  1449585000   118.230003  117.519997    116.860001     118.599998   \n",
       "3  AAPL  1449671400   115.620003  117.639999    115.080002     117.690002   \n",
       "4  AAPL  1449757800   116.169998  116.040001    115.510002     116.940002   \n",
       "\n",
       "     volume          local_time  gain       ema_3  pct_change_1  pct_change_2  \\\n",
       "0  57777000 2015-12-04 22:30:00     1  119.029999      0.634089      0.676643   \n",
       "1  32084200 2015-12-07 22:30:00    -1  118.654999      0.042287      2.300637   \n",
       "2  34309500 2015-12-08 22:30:00     1  118.442501      2.257395      1.773268   \n",
       "3  46361400 2015-12-09 22:30:00    -1  117.031252     -0.473440      2.155860   \n",
       "4  29212700 2015-12-10 22:30:00     1  116.600625      2.641808      3.280579   \n",
       "\n",
       "   pct_change_3  pct_change_4  pct_change_5  pct_change_6  pct_change_7  \\\n",
       "0      2.949313      2.461910      5.168756      5.823253      7.729207   \n",
       "1      1.816304      4.506095      5.156468      7.050413      6.233162   \n",
       "2      4.461922      5.112020      7.005164      6.188259      8.487796   \n",
       "3      2.791607      4.642959      3.844087      6.092860      9.044614   \n",
       "4      5.140737      4.338065      6.597536      9.563331      8.236277   \n",
       "\n",
       "   pct_change_8  pct_change_9  pct_change_10  \n",
       "0      6.906774      9.221871      12.260681  \n",
       "1      8.533671     11.553334      10.202177  \n",
       "2     11.506182     10.155596      10.258323  \n",
       "3      7.723843      7.824302       6.454288  \n",
       "4      8.337214      6.960683       7.534944  "
      ]
     },
     "execution_count": 13,
     "metadata": {},
     "output_type": "execute_result"
    }
   ],
   "source": [
    "# Create Columns for pct_change up to 10 lags\n",
    "for i in range(1,11):\n",
    "    df['pct_change_'+str(i)] = df['close_price'].pct_change(-i)*100\n",
    "df.head()"
   ]
  },
  {
   "cell_type": "markdown",
   "metadata": {},
   "source": [
    "I am going to use pct_change, gain, close_price and ema indicator to help label my target variable."
   ]
  },
  {
   "cell_type": "markdown",
   "metadata": {},
   "source": [
    "#### Setting Conditions to Label Target Variable"
   ]
  },
  {
   "cell_type": "code",
   "execution_count": 14,
   "metadata": {
    "ExecuteTime": {
     "end_time": "2019-11-19T00:58:47.281744Z",
     "start_time": "2019-11-19T00:57:36.558894Z"
    },
    "scrolled": false
   },
   "outputs": [
    {
     "name": "stdout",
     "output_type": "stream",
     "text": [
      "test\n"
     ]
    },
    {
     "name": "stderr",
     "output_type": "stream",
     "text": [
      "/Users/edwinotw/anaconda3/lib/python3.7/site-packages/ipykernel_launcher.py:29: SettingWithCopyWarning: \n",
      "A value is trying to be set on a copy of a slice from a DataFrame\n",
      "\n",
      "See the caveats in the documentation: http://pandas.pydata.org/pandas-docs/stable/indexing.html#indexing-view-versus-copy\n",
      "/Users/edwinotw/anaconda3/lib/python3.7/site-packages/ipykernel_launcher.py:22: SettingWithCopyWarning: \n",
      "A value is trying to be set on a copy of a slice from a DataFrame\n",
      "\n",
      "See the caveats in the documentation: http://pandas.pydata.org/pandas-docs/stable/indexing.html#indexing-view-versus-copy\n",
      "/Users/edwinotw/anaconda3/lib/python3.7/site-packages/ipykernel_launcher.py:14: SettingWithCopyWarning: \n",
      "A value is trying to be set on a copy of a slice from a DataFrame\n",
      "\n",
      "See the caveats in the documentation: http://pandas.pydata.org/pandas-docs/stable/indexing.html#indexing-view-versus-copy\n",
      "  \n",
      "/Users/edwinotw/anaconda3/lib/python3.7/site-packages/ipykernel_launcher.py:41: SettingWithCopyWarning: \n",
      "A value is trying to be set on a copy of a slice from a DataFrame\n",
      "\n",
      "See the caveats in the documentation: http://pandas.pydata.org/pandas-docs/stable/indexing.html#indexing-view-versus-copy\n"
     ]
    },
    {
     "name": "stdout",
     "output_type": "stream",
     "text": [
      "test\n",
      "test\n"
     ]
    }
   ],
   "source": [
    "# Conditions to Label whether the point is a postive reversal(1) or not(0)\n",
    "# Conditions to Label whether the point is a negative reversal(2) or not(0)\n",
    "\n",
    "signal = '' # Create Empty Signal for buy and sell toggling\n",
    "df['reversal'] = 0\n",
    "\n",
    "for index in range(len(df)):\n",
    "    try:\n",
    "        if df['stock'][index] == df['stock'][index+2]:\n",
    "            if signal == \"buy\": # If toggle is at buy, no more buy signals until first sell signal (2)\n",
    "                if (df['gain'][index] == -1) & (df['gain'][index-1] == 1):\n",
    "                    if (df['pct_change_10'][index-1] >= 3.75) or (df['pct_change_8'][index-1] >= 3.75) or (df['pct_change_1'][index-1] >= 3.75):#or (df['pct_change_6'][index-1] >= 0.363.75) or (df['pct_change_3.75'][index-1] >= 0.39) or (df['pct_change_2'][index-1] >= 0.3.751) or (df['pct_change_1'][index-1] >= 0.3.753.75):\n",
    "                        if df['ema_3'][index+2] > df['close_price'][index+2]:\n",
    "                            df['reversal'][index-1] = 2\n",
    "                            signal = 'sell' # Change signal to Sell\n",
    "\n",
    "            elif signal == 'sell': # If toggle is at sell, no more sell signals until first buy signal(1)\n",
    "                if (df['gain'][index] == 1) & (df['gain'][index-1] == -1):\n",
    "                    if (df['pct_change_10'][index-1] <= -3.75) or (df['pct_change_8'][index-1] <= -3.75) or (df['pct_change_1'][index-1] <= -3.75): #or (df['pct_change_6'][index-1] <= -0.363.75) or (df['pct_change_3.75'][index-1] <= -0.39) or (df['pct_change_2'][index-1] <= -0.3.751) or (df['pct_change_1'][index-1] <= -0.3.753.75):\n",
    "                        if (df['pct_change_10'][index] >= -100) or (df['pct_change_9'][index] >= -100) or (df['pct_change_8'][index] >= -100) or (df['pct_change_7'][index] >= -100) or (df['pct_change_6'][index] >= -100):\n",
    "                            if df['ema_3'][index+2] < df['close_price'][index+2]:\n",
    "                                df['reversal'][index-1] = 1\n",
    "                                signal = 'buy' # Change signal to Buy\n",
    "            \n",
    "            else: # At the start where there is no signals yet\n",
    "                if (df['gain'][index] == -1) & (df['gain'][index-1] == 1):\n",
    "                    if (df['pct_change_10'][index-1] >= 3.75) or (df['pct_change_8'][index-1] >= 3.75) or (df['pct_change_1'][index-1] >= 3.75):#or (df['pct_change_6'][index-1] >= 0.363.75) or (df['pct_change_3.75'][index-1] >= 0.39) or (df['pct_change_2'][index-1] >= 0.3.751) or (df['pct_change_1'][index-1] >= 0.3.753.75):\n",
    "                        if df['ema_3'][index+2] > df['close_price'][index+2]:\n",
    "                            df['reversal'][index-1] = 2\n",
    "                            signal = 'sell' # Change signal to Sell\n",
    "                elif (df['gain'][index] == 1) & (df['gain'][index-1] == -1):\n",
    "                    if (df['pct_change_10'][index-1] <= -3.75) or (df['pct_change_8'][index-1] <= -3.75) or (df['pct_change_1'][index-1] <= -3.75): #or (df['pct_change_6'][index-1] <= -0.363.75) or (df['pct_change_3.75'][index-1] <= -0.39) or (df['pct_change_2'][index-1] <= -0.3.751) or (df['pct_change_1'][index-1] <= -0.3.753.75):\n",
    "                        if (df['pct_change_10'][index] >= -100) or (df['pct_change_9'][index] >= -100) or (df['pct_change_8'][index] >= -100) or (df['pct_change_7'][index] >= -100) or (df['pct_change_6'][index] >= -100):\n",
    "                            if df['ema_3'][index+2] < df['close_price'][index+2]:\n",
    "                                df['reversal'][index-1] = 1\n",
    "                                signal = 'buy' # Change signal to Buy\n",
    "                else:\n",
    "                    df['reversal'][index-1] = 0\n",
    "            \n",
    "        else:\n",
    "            df['reversal'][index-1] = 0\n",
    "    except:\n",
    "        print('test')"
   ]
  },
  {
   "cell_type": "code",
   "execution_count": 15,
   "metadata": {
    "ExecuteTime": {
     "end_time": "2019-11-19T00:58:47.290370Z",
     "start_time": "2019-11-19T00:58:47.283295Z"
    }
   },
   "outputs": [
    {
     "data": {
      "text/plain": [
       "0    0.959245\n",
       "2    0.020378\n",
       "1    0.020378\n",
       "Name: reversal, dtype: float64"
      ]
     },
     "execution_count": 15,
     "metadata": {},
     "output_type": "execute_result"
    }
   ],
   "source": [
    "# Look at the Baseline Accuracy\n",
    "df['reversal'].value_counts(normalize = True)"
   ]
  },
  {
   "cell_type": "markdown",
   "metadata": {},
   "source": [
    "### Drop Columns that were Created for Labeling Reversal"
   ]
  },
  {
   "cell_type": "markdown",
   "metadata": {},
   "source": [
    "For Ease of understanding in the Exploratory Data Analysis portion later, I shall keep the reversal values at [0,1,2]. It will be converted to just [0,1] in the future."
   ]
  },
  {
   "cell_type": "code",
   "execution_count": 16,
   "metadata": {
    "ExecuteTime": {
     "end_time": "2019-11-19T00:58:47.314545Z",
     "start_time": "2019-11-19T00:58:47.291997Z"
    }
   },
   "outputs": [
    {
     "data": {
      "text/html": [
       "<div>\n",
       "<style scoped>\n",
       "    .dataframe tbody tr th:only-of-type {\n",
       "        vertical-align: middle;\n",
       "    }\n",
       "\n",
       "    .dataframe tbody tr th {\n",
       "        vertical-align: top;\n",
       "    }\n",
       "\n",
       "    .dataframe thead th {\n",
       "        text-align: right;\n",
       "    }\n",
       "</style>\n",
       "<table border=\"1\" class=\"dataframe\">\n",
       "  <thead>\n",
       "    <tr style=\"text-align: right;\">\n",
       "      <th></th>\n",
       "      <th>stock</th>\n",
       "      <th>time</th>\n",
       "      <th>local_time</th>\n",
       "      <th>open_price</th>\n",
       "      <th>close_price</th>\n",
       "      <th>highest_price</th>\n",
       "      <th>lowest_price</th>\n",
       "      <th>volume</th>\n",
       "      <th>gain</th>\n",
       "      <th>reversal</th>\n",
       "    </tr>\n",
       "  </thead>\n",
       "  <tbody>\n",
       "    <tr>\n",
       "      <th>0</th>\n",
       "      <td>AAPL</td>\n",
       "      <td>1449239400</td>\n",
       "      <td>2015-12-04 22:30:00</td>\n",
       "      <td>115.290001</td>\n",
       "      <td>119.029999</td>\n",
       "      <td>119.250000</td>\n",
       "      <td>115.110001</td>\n",
       "      <td>57777000</td>\n",
       "      <td>1</td>\n",
       "      <td>2</td>\n",
       "    </tr>\n",
       "    <tr>\n",
       "      <th>1</th>\n",
       "      <td>AAPL</td>\n",
       "      <td>1449498600</td>\n",
       "      <td>2015-12-07 22:30:00</td>\n",
       "      <td>118.980003</td>\n",
       "      <td>118.279999</td>\n",
       "      <td>119.860001</td>\n",
       "      <td>117.809998</td>\n",
       "      <td>32084200</td>\n",
       "      <td>-1</td>\n",
       "      <td>0</td>\n",
       "    </tr>\n",
       "    <tr>\n",
       "      <th>2</th>\n",
       "      <td>AAPL</td>\n",
       "      <td>1449585000</td>\n",
       "      <td>2015-12-08 22:30:00</td>\n",
       "      <td>117.519997</td>\n",
       "      <td>118.230003</td>\n",
       "      <td>118.599998</td>\n",
       "      <td>116.860001</td>\n",
       "      <td>34309500</td>\n",
       "      <td>1</td>\n",
       "      <td>0</td>\n",
       "    </tr>\n",
       "    <tr>\n",
       "      <th>3</th>\n",
       "      <td>AAPL</td>\n",
       "      <td>1449671400</td>\n",
       "      <td>2015-12-09 22:30:00</td>\n",
       "      <td>117.639999</td>\n",
       "      <td>115.620003</td>\n",
       "      <td>117.690002</td>\n",
       "      <td>115.080002</td>\n",
       "      <td>46361400</td>\n",
       "      <td>-1</td>\n",
       "      <td>0</td>\n",
       "    </tr>\n",
       "    <tr>\n",
       "      <th>4</th>\n",
       "      <td>AAPL</td>\n",
       "      <td>1449757800</td>\n",
       "      <td>2015-12-10 22:30:00</td>\n",
       "      <td>116.040001</td>\n",
       "      <td>116.169998</td>\n",
       "      <td>116.940002</td>\n",
       "      <td>115.510002</td>\n",
       "      <td>29212700</td>\n",
       "      <td>1</td>\n",
       "      <td>0</td>\n",
       "    </tr>\n",
       "  </tbody>\n",
       "</table>\n",
       "</div>"
      ],
      "text/plain": [
       "  stock        time          local_time  open_price  close_price  \\\n",
       "0  AAPL  1449239400 2015-12-04 22:30:00  115.290001   119.029999   \n",
       "1  AAPL  1449498600 2015-12-07 22:30:00  118.980003   118.279999   \n",
       "2  AAPL  1449585000 2015-12-08 22:30:00  117.519997   118.230003   \n",
       "3  AAPL  1449671400 2015-12-09 22:30:00  117.639999   115.620003   \n",
       "4  AAPL  1449757800 2015-12-10 22:30:00  116.040001   116.169998   \n",
       "\n",
       "   highest_price  lowest_price    volume  gain  reversal  \n",
       "0     119.250000    115.110001  57777000     1         2  \n",
       "1     119.860001    117.809998  32084200    -1         0  \n",
       "2     118.599998    116.860001  34309500     1         0  \n",
       "3     117.690002    115.080002  46361400    -1         0  \n",
       "4     116.940002    115.510002  29212700     1         0  "
      ]
     },
     "execution_count": 16,
     "metadata": {},
     "output_type": "execute_result"
    }
   ],
   "source": [
    "# Drop Columns ['ema_3','pct_change']\n",
    "df_labeled = df[['stock','time','local_time','open_price','close_price','highest_price','lowest_price','volume','gain','reversal']].copy()\n",
    "df_labeled.head()"
   ]
  },
  {
   "cell_type": "markdown",
   "metadata": {},
   "source": [
    "## Save Labeled DataSet to CSV"
   ]
  },
  {
   "cell_type": "code",
   "execution_count": 17,
   "metadata": {
    "ExecuteTime": {
     "end_time": "2019-11-19T00:58:48.285472Z",
     "start_time": "2019-11-19T00:58:47.316404Z"
    }
   },
   "outputs": [],
   "source": [
    "df_labeled.to_csv('../datasets/labeled_data.csv', index = False)"
   ]
  }
 ],
 "metadata": {
  "kernelspec": {
   "display_name": "Python 3",
   "language": "python",
   "name": "python3"
  },
  "language_info": {
   "codemirror_mode": {
    "name": "ipython",
    "version": 3
   },
   "file_extension": ".py",
   "mimetype": "text/x-python",
   "name": "python",
   "nbconvert_exporter": "python",
   "pygments_lexer": "ipython3",
   "version": "3.7.3"
  },
  "toc": {
   "base_numbering": 1,
   "nav_menu": {},
   "number_sections": true,
   "sideBar": true,
   "skip_h1_title": false,
   "title_cell": "Table of Contents",
   "title_sidebar": "Contents",
   "toc_cell": false,
   "toc_position": {},
   "toc_section_display": true,
   "toc_window_display": false
  },
  "varInspector": {
   "cols": {
    "lenName": 16,
    "lenType": 16,
    "lenVar": 40
   },
   "kernels_config": {
    "python": {
     "delete_cmd_postfix": "",
     "delete_cmd_prefix": "del ",
     "library": "var_list.py",
     "varRefreshCmd": "print(var_dic_list())"
    },
    "r": {
     "delete_cmd_postfix": ") ",
     "delete_cmd_prefix": "rm(",
     "library": "var_list.r",
     "varRefreshCmd": "cat(var_dic_list()) "
    }
   },
   "types_to_exclude": [
    "module",
    "function",
    "builtin_function_or_method",
    "instance",
    "_Feature"
   ],
   "window_display": false
  }
 },
 "nbformat": 4,
 "nbformat_minor": 2
}
