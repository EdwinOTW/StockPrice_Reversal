{
 "cells": [
  {
   "cell_type": "markdown",
   "metadata": {},
   "source": [
    "# Import Libraries"
   ]
  },
  {
   "cell_type": "code",
   "execution_count": 1,
   "metadata": {
    "ExecuteTime": {
     "end_time": "2019-11-19T01:11:39.490245Z",
     "start_time": "2019-11-19T01:11:38.048972Z"
    }
   },
   "outputs": [],
   "source": [
    "import numpy as np\n",
    "import pandas as pd\n",
    "import datetime\n",
    "import time\n",
    "import random\n",
    "\n",
    "# visualization\n",
    "import seaborn as sns\n",
    "import matplotlib.pyplot as plt\n",
    "%matplotlib inline\n",
    "sns.set_style('whitegrid')\n",
    "\n",
    "# machine learning\n",
    "from collections import Counter\n",
    "from sklearn.model_selection import train_test_split, cross_val_score, TimeSeriesSplit\n",
    "from sklearn.preprocessing import PolynomialFeatures, StandardScaler\n",
    "from sklearn.decomposition import PCA\n",
    "from sklearn.ensemble import RandomForestClassifier, AdaBoostClassifier, GradientBoostingClassifier, ExtraTreesClassifier, VotingClassifier\n",
    "from sklearn.linear_model import LogisticRegression\n",
    "from sklearn.naive_bayes import GaussianNB\n",
    "from sklearn.neighbors import KNeighborsClassifier\n",
    "from sklearn.neural_network import MLPClassifier\n",
    "from sklearn.svm import SVC\n",
    "from sklearn.pipeline import Pipeline\n",
    "from sklearn.model_selection import GridSearchCV, learning_curve\n",
    "from sklearn.metrics import classification_report, confusion_matrix, roc_auc_score, f1_score, precision_score, recall_score\n"
   ]
  },
  {
   "cell_type": "markdown",
   "metadata": {},
   "source": [
    "# Functions"
   ]
  },
  {
   "cell_type": "code",
   "execution_count": 2,
   "metadata": {
    "ExecuteTime": {
     "end_time": "2019-11-19T01:11:39.496319Z",
     "start_time": "2019-11-19T01:11:39.492192Z"
    }
   },
   "outputs": [],
   "source": [
    "# GridSearch Function\n",
    "def pipeline_gridsearch(pipe, pipe_params, X_train, y_train):\n",
    "    tscv = TimeSeriesSplit(n_splits = 5) # Time Series Split\n",
    "    gs = GridSearchCV(pipe, param_grid=pipe_params, cv=tscv, n_jobs = -1, scoring='f1')\n",
    "    gs.fit(X_train, y_train)\n",
    "    print('Best f1 Score: ' + str(gs.best_score_)) # best_score_ is gridsearch's function\n",
    "    print(\"Best Parameters: \" + str(gs.best_params_))# best_params_ is gridsearch's function"
   ]
  },
  {
   "cell_type": "code",
   "execution_count": 3,
   "metadata": {
    "ExecuteTime": {
     "end_time": "2019-11-19T01:11:39.506036Z",
     "start_time": "2019-11-19T01:11:39.499054Z"
    }
   },
   "outputs": [],
   "source": [
    "# Testing the Model\n",
    "def fit_and_test(best_feature, best_model, X_train, X_test, y_train, y_test):\n",
    "    X_train_featured = best_feature.fit_transform(X_train)\n",
    "    X_test_featured = best_feature.transform(X_test)\n",
    "    best_model.fit(X_train_featured, y_train)\n",
    "    tscv = TimeSeriesSplit(n_splits = 5) # Time Series Split\n",
    "    train_score_val = cross_val_score(best_model, X_train, y_train, cv=tscv)\n",
    "    train_score = best_model.score(X_train_featured, y_train)\n",
    "    test_score = best_model.score(X_test_featured, y_test)\n",
    "    \n",
    "#     if best_model == best_logit:\n",
    "#         features = pd.DataFrame(list(zip(X_test.columns, best_model.coef_)), columns = ['Features', 'Coefficient'])\n",
    "#     features = pd.DataFrame(list(zip(X_test.columns, best_model.feature_importances_)), columns = ['Features', 'Importance'])\n",
    "    \n",
    "    predict = best_model.predict(X_test_featured)\n",
    "    report = classification_report(y_test, best_model.predict(X_test_featured))\n",
    "    con_matrix = confusion_matrix(y_test, predict)\n",
    "    tn, fp, fn, tp = confusion_matrix(y_test, predict).ravel()\n",
    "    probabilities = best_model.predict_proba(X_test_featured)\n",
    "    f1 = f1_score(y_test, predict)\n",
    "    precision = precision_score(y_test, predict)\n",
    "    recall = recall_score(y_test, predict)\n",
    "    \n",
    "    \n",
    "    #print('{} features were selected'.format(len(selected_features)))\n",
    "    print('Cross Validated Mean Train Score is: {}'.format(train_score_val.mean()))\n",
    "    print('Train Score is: {}'.format(train_score))\n",
    "    print('Test Score is: {}'.format(test_score))\n",
    "    print('f1 Score is: {}'.format(f1))\n",
    "    print('Precision is: {}'.format(precision))\n",
    "    print('Recall is: {}'.format(recall))\n",
    "    \n",
    "   \n",
    "    return (predict, con_matrix, report, tn, fp, fn, tp, probabilities) "
   ]
  },
  {
   "cell_type": "markdown",
   "metadata": {},
   "source": [
    "# Preparing the Data"
   ]
  },
  {
   "cell_type": "code",
   "execution_count": 4,
   "metadata": {
    "ExecuteTime": {
     "end_time": "2019-11-19T01:11:40.957340Z",
     "start_time": "2019-11-19T01:11:39.507882Z"
    }
   },
   "outputs": [],
   "source": [
    "# Import Data\n",
    "df = pd.read_csv('../datasets/features_data_classification.csv')"
   ]
  },
  {
   "cell_type": "code",
   "execution_count": 5,
   "metadata": {
    "ExecuteTime": {
     "end_time": "2019-11-19T01:11:40.981983Z",
     "start_time": "2019-11-19T01:11:40.958727Z"
    }
   },
   "outputs": [],
   "source": [
    "df['local_time'] = pd.to_datetime(df['local_time'])"
   ]
  },
  {
   "cell_type": "code",
   "execution_count": 6,
   "metadata": {
    "ExecuteTime": {
     "end_time": "2019-11-19T01:11:41.033935Z",
     "start_time": "2019-11-19T01:11:40.983964Z"
    }
   },
   "outputs": [],
   "source": [
    "df.sort_values('local_time', inplace = True)"
   ]
  },
  {
   "cell_type": "markdown",
   "metadata": {},
   "source": [
    "### Baseline Accuracy"
   ]
  },
  {
   "cell_type": "code",
   "execution_count": 7,
   "metadata": {
    "ExecuteTime": {
     "end_time": "2019-11-19T01:15:08.381425Z",
     "start_time": "2019-11-19T01:15:08.377702Z"
    }
   },
   "outputs": [
    {
     "data": {
      "text/plain": [
       "(10100, 232)"
      ]
     },
     "execution_count": 7,
     "metadata": {},
     "output_type": "execute_result"
    }
   ],
   "source": [
    "df.shape"
   ]
  },
  {
   "cell_type": "code",
   "execution_count": 8,
   "metadata": {
    "ExecuteTime": {
     "end_time": "2019-11-19T01:11:41.048660Z",
     "start_time": "2019-11-19T01:11:41.035473Z"
    }
   },
   "outputs": [
    {
     "data": {
      "text/plain": [
       "0    0.959406\n",
       "1    0.040594\n",
       "Name: reversal, dtype: float64"
      ]
     },
     "execution_count": 8,
     "metadata": {},
     "output_type": "execute_result"
    }
   ],
   "source": [
    "# Check Baseline Accuracy\n",
    "df['reversal'].value_counts(normalize = True)"
   ]
  },
  {
   "cell_type": "markdown",
   "metadata": {},
   "source": [
    "Our Dataset is Heavily Unbalanced. However, since it is a timeseries data, we should not oversample/undersample."
   ]
  },
  {
   "cell_type": "markdown",
   "metadata": {},
   "source": [
    "## One-Hot_Encoding"
   ]
  },
  {
   "cell_type": "code",
   "execution_count": 9,
   "metadata": {
    "ExecuteTime": {
     "end_time": "2019-11-19T01:11:41.109722Z",
     "start_time": "2019-11-19T01:11:41.051177Z"
    }
   },
   "outputs": [],
   "source": [
    "df_final = pd.get_dummies(data = df, columns = ['stock'], drop_first = False)"
   ]
  },
  {
   "cell_type": "code",
   "execution_count": 10,
   "metadata": {
    "ExecuteTime": {
     "end_time": "2019-11-19T01:11:41.178060Z",
     "start_time": "2019-11-19T01:11:41.112800Z"
    }
   },
   "outputs": [],
   "source": [
    "# Drop some Columns before Spliting into train/test set, I will drop local time and keep Epoch time\n",
    "df_final = df_final.drop(columns =['local_time'])"
   ]
  },
  {
   "cell_type": "markdown",
   "metadata": {},
   "source": [
    "## Create X Features and Y Target Label"
   ]
  },
  {
   "cell_type": "code",
   "execution_count": 11,
   "metadata": {
    "ExecuteTime": {
     "end_time": "2019-11-19T01:11:41.197995Z",
     "start_time": "2019-11-19T01:11:41.180233Z"
    }
   },
   "outputs": [
    {
     "data": {
      "text/plain": [
       "((10100, 239), (10100,))"
      ]
     },
     "execution_count": 11,
     "metadata": {},
     "output_type": "execute_result"
    }
   ],
   "source": [
    "X = df_final.drop(columns = 'reversal')\n",
    "y = df_final['reversal']\n",
    "X.shape, y.shape"
   ]
  },
  {
   "cell_type": "markdown",
   "metadata": {},
   "source": [
    "## Train-Test Split"
   ]
  },
  {
   "cell_type": "markdown",
   "metadata": {},
   "source": [
    "Because we are dealing with time series data, the usual train test split operation cannot be done. To split the data, we have to split it into the top x% and 1-x%"
   ]
  },
  {
   "cell_type": "code",
   "execution_count": 12,
   "metadata": {
    "ExecuteTime": {
     "end_time": "2019-11-19T01:11:41.225014Z",
     "start_time": "2019-11-19T01:11:41.200217Z"
    }
   },
   "outputs": [],
   "source": [
    "# Train Test Split to create Training Set and Testing Set\n",
    "X_train, X_test, y_train, y_test = train_test_split(X,y,test_size=0.2, shuffle = False)"
   ]
  },
  {
   "cell_type": "code",
   "execution_count": 13,
   "metadata": {
    "ExecuteTime": {
     "end_time": "2019-11-19T01:11:41.256505Z",
     "start_time": "2019-11-19T01:11:41.226659Z"
    }
   },
   "outputs": [],
   "source": [
    "# Split to create Training Set and Validation Set for PCA\n",
    "X_training, X_val, y_training, y_val = train_test_split(X_train, y_train, test_size=0.2, shuffle = False)"
   ]
  },
  {
   "cell_type": "markdown",
   "metadata": {},
   "source": [
    "The train set will be further split for GridSearch using the TimeSeriesSplit method. \n",
    "\n",
    "Training and validation set will only be used for PCA to select features."
   ]
  },
  {
   "cell_type": "markdown",
   "metadata": {},
   "source": [
    "# Feature Selection"
   ]
  },
  {
   "cell_type": "markdown",
   "metadata": {},
   "source": [
    "We will be utilising PCA to select the Top features to be used for our Modelling.\n",
    "\n",
    "We will be testing the models using all the features and using the top feature to see which method is better for classification."
   ]
  },
  {
   "cell_type": "code",
   "execution_count": 14,
   "metadata": {
    "ExecuteTime": {
     "end_time": "2019-11-19T01:11:41.262048Z",
     "start_time": "2019-11-19T01:11:41.258795Z"
    }
   },
   "outputs": [],
   "source": [
    "# Create Pipeline for PCA\n",
    "pipe = Pipeline([\n",
    "    ('ss', StandardScaler()),\n",
    "    ('pca', PCA())\n",
    "])"
   ]
  },
  {
   "cell_type": "code",
   "execution_count": 15,
   "metadata": {
    "ExecuteTime": {
     "end_time": "2019-11-19T01:11:41.267261Z",
     "start_time": "2019-11-19T01:11:41.263749Z"
    }
   },
   "outputs": [],
   "source": [
    "# Parameters to decide for PCA\n",
    "pipe_params = {\n",
    "    'pca__n_components': [120, 180, 210, 239], # find out how many max features is better\n",
    "    'pca__tol': [0.3,0.4,0.5,0.6]}"
   ]
  },
  {
   "cell_type": "code",
   "execution_count": 16,
   "metadata": {
    "ExecuteTime": {
     "end_time": "2019-11-19T01:11:47.715055Z",
     "start_time": "2019-11-19T01:11:41.268952Z"
    }
   },
   "outputs": [
    {
     "name": "stderr",
     "output_type": "stream",
     "text": [
      "/Users/edwinotw/anaconda3/lib/python3.7/site-packages/sklearn/model_selection/_search.py:764: RuntimeWarning: invalid value encountered in subtract\n",
      "  array_means[:, np.newaxis]) ** 2,\n"
     ]
    },
    {
     "name": "stdout",
     "output_type": "stream",
     "text": [
      "Best Score: 346.71919563520834\n",
      "Best Parameters: {'pca__n_components': 180, 'pca__tol': 0.5}\n"
     ]
    }
   ],
   "source": [
    "# GridSearch CV\n",
    "tscv = TimeSeriesSplit(n_splits = 5) # Time Series Split\n",
    "gs = GridSearchCV(pipe, param_grid=pipe_params, cv=tscv, n_jobs = -1)\n",
    "gs.fit(X_training, y_training)\n",
    "print('Best Score: ' + str(gs.best_score_)) # best_score_ is gridsearch's function\n",
    "print(\"Best Parameters: \" + str(gs.best_params_))# best_params_ is gridsearch's function"
   ]
  },
  {
   "cell_type": "markdown",
   "metadata": {},
   "source": [
    "PCA Score returns the average log-likelihood of all samples. Therefore it value would not be between 0 to 1. The Higher the log-likelihood, the better."
   ]
  },
  {
   "cell_type": "code",
   "execution_count": 17,
   "metadata": {
    "ExecuteTime": {
     "end_time": "2019-11-19T01:11:47.721852Z",
     "start_time": "2019-11-19T01:11:47.718008Z"
    }
   },
   "outputs": [],
   "source": [
    "ss = StandardScaler()\n",
    "pca = PCA(n_components = 180, tol = 0.6)"
   ]
  },
  {
   "cell_type": "code",
   "execution_count": 18,
   "metadata": {
    "ExecuteTime": {
     "end_time": "2019-11-19T01:11:47.867447Z",
     "start_time": "2019-11-19T01:11:47.723962Z"
    }
   },
   "outputs": [],
   "source": [
    "p_train = ss.fit_transform(X_training)\n",
    "p_val = ss.transform(X_val)"
   ]
  },
  {
   "cell_type": "code",
   "execution_count": 19,
   "metadata": {
    "ExecuteTime": {
     "end_time": "2019-11-19T01:11:48.015124Z",
     "start_time": "2019-11-19T01:11:47.869402Z"
    }
   },
   "outputs": [],
   "source": [
    "p_train = pca.fit_transform(p_train)\n",
    "p_val = pca.transform(p_val)"
   ]
  },
  {
   "cell_type": "code",
   "execution_count": 20,
   "metadata": {
    "ExecuteTime": {
     "end_time": "2019-11-19T01:11:48.024368Z",
     "start_time": "2019-11-19T01:11:48.017114Z"
    }
   },
   "outputs": [
    {
     "name": "stdout",
     "output_type": "stream",
     "text": [
      "Explained variance (first 20 components): [0.345 0.181 0.057 0.038 0.027 0.025 0.018 0.018 0.017 0.015 0.015 0.014\n",
      " 0.013 0.012 0.01  0.009 0.009 0.008 0.008 0.007 0.006 0.006 0.006 0.005\n",
      " 0.005 0.005 0.005 0.005 0.005 0.005 0.004 0.004 0.004 0.004 0.004 0.004\n",
      " 0.003 0.003 0.003 0.003 0.003 0.003 0.002 0.002 0.002 0.002 0.002 0.002\n",
      " 0.002 0.002 0.002 0.002 0.002 0.002 0.002 0.001 0.001 0.001 0.001 0.001\n",
      " 0.001 0.001 0.001 0.001 0.001 0.001 0.001 0.001 0.001 0.001 0.001 0.001\n",
      " 0.001 0.001 0.001 0.001 0.001 0.001 0.001 0.001 0.001 0.001 0.    0.\n",
      " 0.    0.    0.    0.    0.    0.    0.    0.    0.    0.    0.    0.\n",
      " 0.    0.    0.    0.    0.    0.    0.    0.    0.    0.    0.    0.\n",
      " 0.    0.    0.    0.    0.    0.    0.    0.    0.    0.    0.    0.\n",
      " 0.    0.    0.    0.    0.    0.    0.    0.    0.    0.    0.    0.\n",
      " 0.    0.    0.    0.    0.    0.    0.    0.    0.    0.    0.    0.\n",
      " 0.    0.    0.    0.    0.    0.    0.    0.    0.    0.    0.    0.\n",
      " 0.    0.    0.    0.    0.    0.    0.    0.    0.    0.    0.    0.\n",
      " 0.    0.    0.    0.    0.    0.    0.    0.    0.    0.    0.    0.   ]\n",
      "\n",
      "Cumulative explained variance (first 20 components): [0.345 0.527 0.583 0.622 0.649 0.674 0.692 0.71  0.727 0.742 0.757 0.771\n",
      " 0.784 0.795 0.806 0.815 0.823 0.831 0.839 0.846 0.853 0.859 0.864 0.869\n",
      " 0.875 0.88  0.884 0.889 0.894 0.898 0.903 0.907 0.911 0.915 0.919 0.922\n",
      " 0.926 0.929 0.932 0.935 0.938 0.94  0.943 0.945 0.947 0.949 0.951 0.953\n",
      " 0.955 0.957 0.958 0.96  0.962 0.963 0.965 0.966 0.968 0.969 0.971 0.972\n",
      " 0.973 0.974 0.976 0.977 0.978 0.979 0.98  0.981 0.982 0.983 0.984 0.985\n",
      " 0.986 0.986 0.987 0.988 0.989 0.989 0.99  0.991 0.991 0.992 0.992 0.993\n",
      " 0.993 0.994 0.994 0.994 0.995 0.995 0.995 0.996 0.996 0.996 0.997 0.997\n",
      " 0.997 0.997 0.997 0.998 0.998 0.998 0.998 0.998 0.998 0.999 0.999 0.999\n",
      " 0.999 0.999 0.999 0.999 0.999 0.999 0.999 0.999 1.    1.    1.    1.\n",
      " 1.    1.    1.    1.    1.    1.    1.    1.    1.    1.    1.    1.\n",
      " 1.    1.    1.    1.    1.    1.    1.    1.    1.    1.    1.    1.\n",
      " 1.    1.    1.    1.    1.    1.    1.    1.    1.    1.    1.    1.\n",
      " 1.    1.    1.    1.    1.    1.    1.    1.    1.    1.    1.    1.\n",
      " 1.    1.    1.    1.    1.    1.    1.    1.    1.    1.    1.    1.   ]\n"
     ]
    }
   ],
   "source": [
    "# Pull the Explained Variance Attribute\n",
    "var_exp = pca.explained_variance_ratio_\n",
    "print(f'Explained variance (first 20 components): {np.round(var_exp[:200],3)}')\n",
    "print('')\n",
    "# Generate the cumulative explained variance.\n",
    "cum_var_exp = np.cumsum(var_exp)\n",
    "print(f'Cumulative explained variance (first 20 components): {np.round(cum_var_exp[:200],3)}')"
   ]
  },
  {
   "cell_type": "code",
   "execution_count": 21,
   "metadata": {
    "ExecuteTime": {
     "end_time": "2019-11-19T01:11:48.030975Z",
     "start_time": "2019-11-19T01:11:48.026498Z"
    }
   },
   "outputs": [],
   "source": [
    "# number of components\n",
    "n_pcs= pca.components_.shape[0]\n",
    "# get the index of the most important feature on EACH component\n",
    "# LIST COMPREHENSION HERE\n",
    "most_important = [np.abs(pca.components_[i]).argmax() for i in range(n_pcs)]"
   ]
  },
  {
   "cell_type": "code",
   "execution_count": 22,
   "metadata": {
    "ExecuteTime": {
     "end_time": "2019-11-19T01:11:48.043942Z",
     "start_time": "2019-11-19T01:11:48.033518Z"
    }
   },
   "outputs": [
    {
     "data": {
      "text/plain": [
       "[(73, 'ema7', 0.3454103372436971),\n",
       " (134, 'momentum_rsi_lag_1', 0.1812905582272195),\n",
       " (186, 'trend_macd_signal_lag_2', 0.05676052773206538),\n",
       " (111, 'trend_macd_diff_lag_1', 0.03808882335594948),\n",
       " (83, 'pct_change_lag_1', 0.02704488707527858),\n",
       " (169, 'volume_nvi_lag_2', 0.02540793552034124),\n",
       " (159, 'pct_change_lag_2', 0.018058877406124798),\n",
       " (45, 'trend_mass_index', 0.0179932303117339),\n",
       " (9, 'volatility', 0.016708334137134812),\n",
       " (144, 'others_dr_lag_1', 0.015389601512333508),\n",
       " (197, 'trend_mass_index_lag_2', 0.014840906874306264),\n",
       " (220, 'others_dr_lag_2', 0.014213879024773746),\n",
       " (8, 'return', 0.012584777882347313),\n",
       " (131, 'trend_aroon_up_lag_1', 0.011695605919836153),\n",
       " (89, 'volume_fi_lag_1', 0.010128609467432957),\n",
       " (12, 'volume_cmf', 0.00906878059251745),\n",
       " (13, 'volume_fi', 0.008802426534895335),\n",
       " (230, 'stock_CRM', 0.007849524033757674),\n",
       " (166, 'volume_em_lag_2', 0.007771254160944325),\n",
       " (230, 'stock_CRM', 0.00729350546268118),\n",
       " (123, 'trend_dpo_lag_1', 0.0064831752232488654),\n",
       " (31, 'volatility_dchi', 0.005754104817302476),\n",
       " (23, 'volatility_bbli', 0.005567419041130657),\n",
       " (14, 'volume_em', 0.005284107183251427),\n",
       " (235, 'stock_NKE', 0.00522838373209981),\n",
       " (232, 'stock_FB', 0.005005999753712378),\n",
       " (233, 'stock_GM', 0.004771027016152795),\n",
       " (232, 'stock_FB', 0.004697263498471731),\n",
       " (235, 'stock_NKE', 0.004597120447946943),\n",
       " (231, 'stock_DIS', 0.004539506106423807),\n",
       " (0, 'time', 0.004412238744640657),\n",
       " (10, 'volume_adi', 0.004225833128496126),\n",
       " (99, 'volatility_bbli_lag_1', 0.004031184021149491),\n",
       " (165, 'volume_fi_lag_2', 0.0038967991730948256),\n",
       " (99, 'volatility_bbli_lag_1', 0.0036810134406851094),\n",
       " (0, 'time', 0.003513986248895308),\n",
       " (108, 'volatility_dcli_lag_1', 0.0034160716474109175),\n",
       " (162, 'volume_adi_lag_2', 0.003275214744090335),\n",
       " (22, 'volatility_bbhi', 0.0030466707120501966),\n",
       " (158, 'gain_lag_2', 0.0029271261240370414),\n",
       " (23, 'volatility_bbli', 0.002808122543355746),\n",
       " (6, 'gain', 0.0027103320941781247),\n",
       " (13, 'volume_fi', 0.0023700440192779655),\n",
       " (183, 'volatility_dchi_lag_2', 0.0022197017622116247),\n",
       " (165, 'volume_fi_lag_2', 0.002119327027294854),\n",
       " (211, 'momentum_mfi_lag_2', 0.002031928086932886),\n",
       " (108, 'volatility_dcli_lag_1', 0.0020047906777119393),\n",
       " (166, 'volume_em_lag_2', 0.0019339491704715387),\n",
       " (82, 'gain_lag_1', 0.001905865572147834),\n",
       " (184, 'volatility_dcli_lag_2', 0.0018669344672227973),\n",
       " (158, 'gain_lag_2', 0.0017471374831168982),\n",
       " (179, 'volatility_kchi_lag_2', 0.0016841696625808373),\n",
       " (47, 'trend_dpo', 0.0016821162001135618),\n",
       " (183, 'volatility_dchi_lag_2', 0.0015851402367803528),\n",
       " (82, 'gain_lag_1', 0.0015586126777092412),\n",
       " (7, 'pct_change', 0.0014828294101116384),\n",
       " (81, 'volume_lag_1', 0.001463030781446257),\n",
       " (32, 'volatility_dcli', 0.0014353791133025577),\n",
       " (89, 'volume_fi_lag_1', 0.001290448438279386),\n",
       " (184, 'volatility_dcli_lag_2', 0.0012894833805757663),\n",
       " (98, 'volatility_bbhi_lag_1', 0.0012661592557100588),\n",
       " (31, 'volatility_dchi', 0.0012300974349156498),\n",
       " (13, 'volume_fi', 0.0012003541055222954),\n",
       " (5, 'volume', 0.0011503221963984772),\n",
       " (40, 'trend_adx_neg', 0.0011424876308655007),\n",
       " (159, 'pct_change_lag_2', 0.00111071387993744),\n",
       " (32, 'volatility_dcli', 0.0010791688183562813),\n",
       " (180, 'volatility_kcli_lag_2', 0.0010474778756859725),\n",
       " (28, 'volatility_kcli', 0.0009436839941530717),\n",
       " (44, 'trend_trix', 0.0009275486537217519),\n",
       " (104, 'volatility_kcli_lag_1', 0.0009041394593908191),\n",
       " (103, 'volatility_kchi_lag_1', 0.0008431365122959064),\n",
       " (103, 'volatility_kchi_lag_1', 0.0008270919456108695),\n",
       " (57, 'trend_aroon_ind', 0.0007980742471249322),\n",
       " (83, 'pct_change_lag_1', 0.0007817514194163787),\n",
       " (123, 'trend_dpo_lag_1', 0.0007620793669077446),\n",
       " (81, 'volume_lag_1', 0.0007502861843447632),\n",
       " (123, 'trend_dpo_lag_1', 0.0007199274292420192),\n",
       " (194, 'trend_vortex_ind_neg_lag_2', 0.0006906968431575917),\n",
       " (157, 'volume_lag_2', 0.000648618419917658),\n",
       " (83, 'pct_change_lag_1', 0.0005855517778563073),\n",
       " (46, 'trend_cci', 0.0005147133763158968),\n",
       " (120, 'trend_trix_lag_1', 0.0004877804615419778),\n",
       " (55, 'trend_aroon_up', 0.00047975117297920875),\n",
       " (92, 'volume_vpt_lag_1', 0.0004672386668501473),\n",
       " (69, 'others_dlr', 0.0004229258913828219),\n",
       " (213, 'momentum_uo_lag_2', 0.00039320965614888343),\n",
       " (220, 'others_dr_lag_2', 0.00037527419384406166),\n",
       " (213, 'momentum_uo_lag_2', 0.00034718028461602914),\n",
       " (120, 'trend_trix_lag_1', 0.0003325965245796873),\n",
       " (133, 'trend_aroon_ind_lag_1', 0.0003142064709050678),\n",
       " (61, 'momentum_uo', 0.0002919533009569653),\n",
       " (220, 'others_dr_lag_2', 0.000277576256422469),\n",
       " (17, 'volume_nvi', 0.00027148949427736223),\n",
       " (210, 'momentum_rsi_lag_2', 0.0002549161111590297),\n",
       " (54, 'trend_visual_ichimoku_b', 0.0002382707535648261),\n",
       " (12, 'volume_cmf', 0.0002214453856358879),\n",
       " (198, 'trend_cci_lag_2', 0.0002192555971849428),\n",
       " (219, 'momentum_roc_lag_2', 0.00020475672745859716),\n",
       " (131, 'trend_aroon_up_lag_1', 0.00018761791726402708),\n",
       " (137, 'momentum_uo_lag_1', 0.00017161477520658783),\n",
       " (128, 'trend_ichimoku_b_lag_1', 0.00016478880881772161),\n",
       " (215, 'momentum_stoch_signal_lag_2', 0.00015817714021496045),\n",
       " (41, 'trend_vortex_ind_pos', 0.0001455965739677897),\n",
       " (233, 'stock_GM', 0.00013600545312871982),\n",
       " (219, 'momentum_roc_lag_2', 0.00012827972956973034),\n",
       " (118, 'trend_vortex_ind_neg_lag_1', 0.0001171428579110605),\n",
       " (211, 'momentum_mfi_lag_2', 0.00011460883006520509),\n",
       " (122, 'trend_cci_lag_1', 0.0001099984049553902),\n",
       " (39, 'trend_adx_pos', 9.371438114643708e-05),\n",
       " (40, 'trend_adx_neg', 9.196545116809753e-05),\n",
       " (88, 'volume_cmf_lag_1', 8.775144837274074e-05),\n",
       " (39, 'trend_adx_pos', 8.43590793314696e-05),\n",
       " (91, 'volume_sma_em_lag_1', 7.449333943485798e-05),\n",
       " (143, 'momentum_roc_lag_1', 6.982945994152796e-05),\n",
       " (187, 'trend_macd_diff_lag_2', 5.612801166175132e-05),\n",
       " (128, 'trend_ichimoku_b_lag_1', 4.675092391156802e-05),\n",
       " (135, 'momentum_mfi_lag_1', 4.4973163726215715e-05),\n",
       " (38, 'trend_adx', 4.106189638022481e-05),\n",
       " (116, 'trend_adx_neg_lag_1', 3.626074574190377e-05),\n",
       " (9, 'volatility', 3.262538419405852e-05),\n",
       " (115, 'trend_adx_pos_lag_1', 3.2382825894014415e-05),\n",
       " (182, 'volatility_dch_lag_2', 3.0922241288328164e-05),\n",
       " (50, 'trend_kst_diff', 2.8215602342487723e-05),\n",
       " (210, 'momentum_rsi_lag_2', 2.6521994305972114e-05),\n",
       " (18, 'volatility_atr', 2.2803435586454345e-05),\n",
       " (139, 'momentum_stoch_signal_lag_1', 1.6129865631487078e-05),\n",
       " (238, 'stock_V', 1.5661912450366892e-05),\n",
       " (30, 'volatility_dch', 1.4263076633008418e-05),\n",
       " (134, 'momentum_rsi_lag_1', 1.3268384136599837e-05),\n",
       " (53, 'trend_visual_ichimoku_a', 1.2323408202054012e-05),\n",
       " (85, 'volatility_lag_1', 1.1618204902209867e-05),\n",
       " (205, 'trend_visual_ichimoku_a_lag_2', 1.1411988667098115e-05),\n",
       " (65, 'momentum_ao', 1.0044733070338803e-05),\n",
       " (8, 'return', 9.064151757216726e-06),\n",
       " (94, 'volatility_atr_lag_1', 8.138276078944908e-06),\n",
       " (106, 'volatility_dch_lag_1', 7.799702431214925e-06),\n",
       " (52, 'trend_ichimoku_b', 6.5490176569460155e-06),\n",
       " (30, 'volatility_dch', 6.144740310743659e-06),\n",
       " (114, 'trend_adx_lag_1', 5.6115741799431214e-06),\n",
       " (203, 'trend_ichimoku_a_lag_2', 5.385826350475691e-06),\n",
       " (130, 'trend_visual_ichimoku_b_lag_1', 4.068196805962769e-06),\n",
       " (218, 'momentum_kama_lag_2', 3.919574613396477e-06),\n",
       " (84, 'return_lag_1', 3.820216906100286e-06),\n",
       " (181, 'volatility_dcl_lag_2', 2.978539512585646e-06),\n",
       " (121, 'trend_mass_index_lag_1', 2.8359103382110563e-06),\n",
       " (126, 'trend_kst_diff_lag_1', 2.7563155857351766e-06),\n",
       " (126, 'trend_kst_diff_lag_1', 2.4774659104157596e-06),\n",
       " (53, 'trend_visual_ichimoku_a', 2.2867088416610358e-06),\n",
       " (128, 'trend_ichimoku_b_lag_1', 2.1515110095213315e-06),\n",
       " (128, 'trend_ichimoku_b_lag_1', 1.9879181557436144e-06),\n",
       " (29, 'volatility_dcl', 1.7294947773060837e-06),\n",
       " (153, 'open_price_lag_2', 1.4381239210116549e-06),\n",
       " (51, 'trend_ichimoku_a', 1.281790668378438e-06),\n",
       " (127, 'trend_ichimoku_a_lag_1', 9.132650365993528e-07),\n",
       " (1, 'open_price', 7.895221292500624e-07),\n",
       " (77, 'open_price_lag_1', 7.429664896550979e-07),\n",
       " (60, 'momentum_tsi', 6.869664718535067e-07),\n",
       " (105, 'volatility_dcl_lag_1', 5.51754338210861e-07),\n",
       " (153, 'open_price_lag_2', 5.318516768255721e-07),\n",
       " (169, 'volume_nvi_lag_2', 4.9119574968385e-07),\n",
       " (127, 'trend_ichimoku_a_lag_1', 4.7063363541645897e-07),\n",
       " (172, 'volatility_bbl_lag_2', 3.534684715337172e-07),\n",
       " (156, 'lowest_price_lag_2', 3.400138894687363e-07),\n",
       " (156, 'lowest_price_lag_2', 2.746820076948649e-07),\n",
       " (11, 'volume_obv', 2.1644456138223555e-07),\n",
       " (163, 'volume_obv_lag_2', 2.09420457790538e-07),\n",
       " (93, 'volume_nvi_lag_1', 1.9373988845551436e-07),\n",
       " (79, 'highest_price_lag_1', 1.896654131357277e-07),\n",
       " (201, 'trend_kst_sig_lag_2', 1.7927546180394965e-07),\n",
       " (66, 'momentum_kama', 1.4469301533073353e-07),\n",
       " (80, 'lowest_price_lag_1', 1.3968044066367538e-07),\n",
       " (4, 'lowest_price', 1.3179610435220552e-07),\n",
       " (155, 'highest_price_lag_2', 1.2389886427753244e-07),\n",
       " (3, 'highest_price', 1.1683837373055179e-07),\n",
       " (79, 'highest_price_lag_1', 1.0891156720562174e-07),\n",
       " (80, 'lowest_price_lag_1', 9.72100560426787e-08),\n",
       " (87, 'volume_obv_lag_1', 8.20645603568579e-08),\n",
       " (150, 'sma3_lag_1', 7.78274046303872e-08),\n",
       " (152, 'sma7_lag_1', 4.921104643947091e-08)]"
      ]
     },
     "execution_count": 22,
     "metadata": {},
     "output_type": "execute_result"
    }
   ],
   "source": [
    "# get the names\n",
    "most_important_names = [X.columns]\n",
    "most_important_names[0][42]\n",
    "# print pca and feature names\n",
    "pca_feature = list(zip(most_important, most_important_names[0][most_important],var_exp))\n",
    "pca_feature"
   ]
  },
  {
   "cell_type": "markdown",
   "metadata": {},
   "source": [
    "We will be using all the stock features regardless of coefficient because I want the model to be able to handle all the different stocks when applied to.\n",
    "\n",
    "For the rest of the features we will use, 27/52/77 and all features to see which method performs best."
   ]
  },
  {
   "cell_type": "code",
   "execution_count": 23,
   "metadata": {
    "ExecuteTime": {
     "end_time": "2019-11-19T01:11:48.332077Z",
     "start_time": "2019-11-19T01:11:48.045837Z"
    },
    "scrolled": true
   },
   "outputs": [
    {
     "data": {
      "image/png": "[encoded data removed]",
      "text/plain": [
       "<Figure size 864x576 with 1 Axes>"
      ]
     },
     "metadata": {
      "needs_background": "light"
     },
     "output_type": "display_data"
    }
   ],
   "source": [
    "# Plot the variance explained (and cumulative variance explained).\n",
    "# Set figure size.\n",
    "plt.figure(figsize=(12,8))\n",
    "# Plot the explained variance.\n",
    "plt.plot(range(len(var_exp)), var_exp, lw=3, label = 'Variance Explained')\n",
    "# Plot the cumulative explained variance.\n",
    "plt.plot(range(len(var_exp)), cum_var_exp, lw=3, color = 'orange', label = 'Cumulative Variance Explained')\n",
    "# Add horizontal lines at y=0 and y=1.\n",
    "plt.axhline(y=0, linewidth=1, color='grey', ls='dashed')\n",
    "plt.axhline(y=1, linewidth=1, color='grey', ls='dashed')\n",
    "# Set the limits of the axes.\n",
    "#plt.xlim([-1,21])\n",
    "#plt.ylim([-0.01,1.01])\n",
    "# Label the axes.\n",
    "plt.ylabel('Variance Explained', fontsize=20)\n",
    "plt.xlabel('Principal Component', fontsize=20)\n",
    "# Make the tick labels bigger\n",
    "#plt.xticks(range(0, 21, 5), range(1, 22, 5), fontsize=12)\n",
    "plt.yticks(fontsize=12)\n",
    "# Add title and legend.\n",
    "plt.title('Component vs. Variance Explained', fontsize=24)\n",
    "plt.legend(fontsize=11);"
   ]
  },
  {
   "cell_type": "markdown",
   "metadata": {},
   "source": [
    "About 15 features would explain about 80%+ variance and 50 features would explain 95% variance of our features. As mentioned above, we will use 27/52/77/all (including all stock features) features for modelling."
   ]
  },
  {
   "cell_type": "code",
   "execution_count": 24,
   "metadata": {
    "ExecuteTime": {
     "end_time": "2019-11-19T01:11:48.348949Z",
     "start_time": "2019-11-19T01:11:48.345173Z"
    }
   },
   "outputs": [],
   "source": [
    "# Get Features Prepared for Modelling\n",
    "top_feature_col_27 = [x[1] for x in pca_feature][:16] # 27 Features\n",
    "top_feature_col_52 = [x[1] for x in pca_feature][:65] # 52 Features\n",
    "top_feature_col_77 = [x[1] for x in pca_feature][:103] # 77 Features"
   ]
  },
  {
   "cell_type": "code",
   "execution_count": 25,
   "metadata": {},
   "outputs": [],
   "source": [
    "# List of Stock Columns and time\n",
    "stock = ['stock_AAPL',\n",
    "       'stock_CRM', 'stock_DIS', 'stock_FB', 'stock_GM', 'stock_INTC',\n",
    "       'stock_NKE', 'stock_TRIP', 'stock_TWTR', 'stock_V', 'time']"
   ]
  },
  {
   "cell_type": "code",
   "execution_count": 26,
   "metadata": {},
   "outputs": [],
   "source": [
    "# Add Stocks into Features Prepared\n",
    "top_feature_col_27.extend(stock)\n",
    "top_feature_col_52.extend(stock)\n",
    "top_feature_col_77.extend(stock)"
   ]
  },
  {
   "cell_type": "code",
   "execution_count": 27,
   "metadata": {},
   "outputs": [],
   "source": [
    "# Remove any Duplicates\n",
    "top_feature_col_27 = list(set(top_feature_col_27))\n",
    "top_feature_col_52 = list(set(top_feature_col_52))\n",
    "top_feature_col_77 = list(set(top_feature_col_77))"
   ]
  },
  {
   "cell_type": "code",
   "execution_count": 28,
   "metadata": {},
   "outputs": [
    {
     "name": "stdout",
     "output_type": "stream",
     "text": [
      "27\n",
      "53\n",
      "75\n"
     ]
    }
   ],
   "source": [
    "# Check Number of Features\n",
    "print(len(top_feature_col_27))\n",
    "print(len(top_feature_col_52))\n",
    "print(len(top_feature_col_77))"
   ]
  },
  {
   "cell_type": "markdown",
   "metadata": {},
   "source": [
    "# Model Prep"
   ]
  },
  {
   "cell_type": "markdown",
   "metadata": {},
   "source": [
    "We will perform GridSearch and Validation tests on these Models:\n",
    "\n",
    "- Logistic Regression\n",
    "- Random Forest\n",
    "- KNearestNeighbor\n",
    "- SVM\n",
    "- Naive Bayes\n",
    "- GLM Poisson\n",
    "- Ada Boost\n",
    "- Gradient Boost\n",
    "- XGBoost\n",
    "- Voting Classifier\n",
    "\n",
    "We would not be using **Accuracy** as our Metric because our dataset is heavily unbalanced. Getting True Positives is **Important** for this model. Hence we will use F1 Score as our Metric."
   ]
  },
  {
   "cell_type": "markdown",
   "metadata": {},
   "source": [
    "## Logistic Regression"
   ]
  },
  {
   "cell_type": "markdown",
   "metadata": {},
   "source": [
    "### GridSearch"
   ]
  },
  {
   "cell_type": "code",
   "execution_count": 29,
   "metadata": {},
   "outputs": [],
   "source": [
    "pipe_log = Pipeline([\n",
    "    ('ss', StandardScaler()),\n",
    "    ('logit', LogisticRegression())\n",
    "])"
   ]
  },
  {
   "cell_type": "code",
   "execution_count": 30,
   "metadata": {},
   "outputs": [],
   "source": [
    "pipe_params_log = {  \n",
    "    'logit__C' : [1,2], \n",
    "    'logit__class_weight' : ['balanced', None], # Solve Unbalanced dataset\n",
    "    'logit__penalty' : ['l1','l2']\n",
    "}"
   ]
  },
  {
   "cell_type": "code",
   "execution_count": 31,
   "metadata": {},
   "outputs": [
    {
     "name": "stderr",
     "output_type": "stream",
     "text": [
      "/Users/edwinotw/anaconda3/lib/python3.7/site-packages/sklearn/linear_model/logistic.py:432: FutureWarning: Default solver will be changed to 'lbfgs' in 0.22. Specify a solver to silence this warning.\n",
      "  FutureWarning)\n"
     ]
    },
    {
     "name": "stdout",
     "output_type": "stream",
     "text": [
      "Best f1 Score: 0.1024400333055721\n",
      "Best Parameters: {'logit__C': 1, 'logit__class_weight': 'balanced', 'logit__penalty': 'l1'}\n"
     ]
    }
   ],
   "source": [
    "# 27 Features\n",
    "pipeline_gridsearch(pipe_log, pipe_params_log, X_train[top_feature_col_27], y_train)"
   ]
  },
  {
   "cell_type": "code",
   "execution_count": 32,
   "metadata": {},
   "outputs": [
    {
     "name": "stderr",
     "output_type": "stream",
     "text": [
      "/Users/edwinotw/anaconda3/lib/python3.7/site-packages/sklearn/linear_model/logistic.py:432: FutureWarning: Default solver will be changed to 'lbfgs' in 0.22. Specify a solver to silence this warning.\n",
      "  FutureWarning)\n"
     ]
    },
    {
     "name": "stdout",
     "output_type": "stream",
     "text": [
      "Best f1 Score: 0.11647976403753227\n",
      "Best Parameters: {'logit__C': 1, 'logit__class_weight': 'balanced', 'logit__penalty': 'l1'}\n"
     ]
    }
   ],
   "source": [
    "# 52 Features\n",
    "pipeline_gridsearch(pipe_log, pipe_params_log, X_train[top_feature_col_52], y_train)"
   ]
  },
  {
   "cell_type": "code",
   "execution_count": 33,
   "metadata": {},
   "outputs": [
    {
     "name": "stderr",
     "output_type": "stream",
     "text": [
      "/Users/edwinotw/anaconda3/lib/python3.7/site-packages/sklearn/linear_model/logistic.py:432: FutureWarning: Default solver will be changed to 'lbfgs' in 0.22. Specify a solver to silence this warning.\n",
      "  FutureWarning)\n"
     ]
    },
    {
     "name": "stdout",
     "output_type": "stream",
     "text": [
      "Best f1 Score: 0.12106304627171698\n",
      "Best Parameters: {'logit__C': 1, 'logit__class_weight': 'balanced', 'logit__penalty': 'l1'}\n"
     ]
    }
   ],
   "source": [
    "# 77 Features\n",
    "pipeline_gridsearch(pipe_log, pipe_params_log, X_train[top_feature_col_77], y_train)"
   ]
  },
  {
   "cell_type": "markdown",
   "metadata": {},
   "source": [
    "### Test Model"
   ]
  },
  {
   "cell_type": "code",
   "execution_count": 34,
   "metadata": {},
   "outputs": [],
   "source": [
    "ss = StandardScaler()"
   ]
  },
  {
   "cell_type": "code",
   "execution_count": 35,
   "metadata": {},
   "outputs": [],
   "source": [
    "# Best Logit Models\n",
    "best_logit_27 = LogisticRegression(C = 2, class_weight = \"balanced\", penalty = 'l2', n_jobs = -1)\n",
    "best_logit_52 = LogisticRegression(C = 2, class_weight = \"balanced\", penalty = 'l2', n_jobs = -1)\n",
    "best_logit_77 = LogisticRegression(C = 1, class_weight = \"balanced\", penalty = 'l1', n_jobs = -1)"
   ]
  },
  {
   "cell_type": "markdown",
   "metadata": {},
   "source": [
    "#### Top 27 Features"
   ]
  },
  {
   "cell_type": "code",
   "execution_count": 36,
   "metadata": {},
   "outputs": [
    {
     "name": "stderr",
     "output_type": "stream",
     "text": [
      "/Users/edwinotw/anaconda3/lib/python3.7/site-packages/sklearn/linear_model/logistic.py:432: FutureWarning: Default solver will be changed to 'lbfgs' in 0.22. Specify a solver to silence this warning.\n",
      "  FutureWarning)\n",
      "/Users/edwinotw/anaconda3/lib/python3.7/site-packages/sklearn/linear_model/logistic.py:1544: UserWarning: 'n_jobs' > 1 does not have any effect when 'solver' is set to 'liblinear'. Got 'n_jobs' = 8.\n",
      "  \" = {}.\".format(effective_n_jobs(self.n_jobs)))\n",
      "/Users/edwinotw/anaconda3/lib/python3.7/site-packages/sklearn/linear_model/logistic.py:432: FutureWarning: Default solver will be changed to 'lbfgs' in 0.22. Specify a solver to silence this warning.\n",
      "  FutureWarning)\n",
      "/Users/edwinotw/anaconda3/lib/python3.7/site-packages/sklearn/linear_model/logistic.py:1544: UserWarning: 'n_jobs' > 1 does not have any effect when 'solver' is set to 'liblinear'. Got 'n_jobs' = 8.\n",
      "  \" = {}.\".format(effective_n_jobs(self.n_jobs)))\n",
      "/Users/edwinotw/anaconda3/lib/python3.7/site-packages/sklearn/linear_model/logistic.py:432: FutureWarning: Default solver will be changed to 'lbfgs' in 0.22. Specify a solver to silence this warning.\n",
      "  FutureWarning)\n",
      "/Users/edwinotw/anaconda3/lib/python3.7/site-packages/sklearn/linear_model/logistic.py:1544: UserWarning: 'n_jobs' > 1 does not have any effect when 'solver' is set to 'liblinear'. Got 'n_jobs' = 8.\n",
      "  \" = {}.\".format(effective_n_jobs(self.n_jobs)))\n",
      "/Users/edwinotw/anaconda3/lib/python3.7/site-packages/sklearn/linear_model/logistic.py:432: FutureWarning: Default solver will be changed to 'lbfgs' in 0.22. Specify a solver to silence this warning.\n",
      "  FutureWarning)\n",
      "/Users/edwinotw/anaconda3/lib/python3.7/site-packages/sklearn/linear_model/logistic.py:1544: UserWarning: 'n_jobs' > 1 does not have any effect when 'solver' is set to 'liblinear'. Got 'n_jobs' = 8.\n",
      "  \" = {}.\".format(effective_n_jobs(self.n_jobs)))\n",
      "/Users/edwinotw/anaconda3/lib/python3.7/site-packages/sklearn/linear_model/logistic.py:432: FutureWarning: Default solver will be changed to 'lbfgs' in 0.22. Specify a solver to silence this warning.\n",
      "  FutureWarning)\n",
      "/Users/edwinotw/anaconda3/lib/python3.7/site-packages/sklearn/linear_model/logistic.py:1544: UserWarning: 'n_jobs' > 1 does not have any effect when 'solver' is set to 'liblinear'. Got 'n_jobs' = 8.\n",
      "  \" = {}.\".format(effective_n_jobs(self.n_jobs)))\n"
     ]
    },
    {
     "name": "stdout",
     "output_type": "stream",
     "text": [
      "Cross Validated Mean Train Score is: 0.6380386329866271\n",
      "Train Score is: 0.6172029702970298\n",
      "Test Score is: 0.5475247524752476\n",
      "f1 Score is: 0.07302231237322515\n",
      "Precision is: 0.039779005524861875\n",
      "Recall is: 0.4444444444444444\n"
     ]
    },
    {
     "name": "stderr",
     "output_type": "stream",
     "text": [
      "/Users/edwinotw/anaconda3/lib/python3.7/site-packages/sklearn/linear_model/logistic.py:432: FutureWarning: Default solver will be changed to 'lbfgs' in 0.22. Specify a solver to silence this warning.\n",
      "  FutureWarning)\n",
      "/Users/edwinotw/anaconda3/lib/python3.7/site-packages/sklearn/linear_model/logistic.py:1544: UserWarning: 'n_jobs' > 1 does not have any effect when 'solver' is set to 'liblinear'. Got 'n_jobs' = 8.\n",
      "  \" = {}.\".format(effective_n_jobs(self.n_jobs)))\n"
     ]
    }
   ],
   "source": [
    "# Score for Top 27 Features\n",
    "predict, con_matrix, report, tn, fp, fn, tp, probabilities = fit_and_test(ss, best_logit_27, X_train[top_feature_col_27], X_test[top_feature_col_27], y_train, y_test)"
   ]
  },
  {
   "cell_type": "code",
   "execution_count": 37,
   "metadata": {},
   "outputs": [
    {
     "data": {
      "text/plain": [
       "array([[1070,  869],\n",
       "       [  45,   36]])"
      ]
     },
     "execution_count": 37,
     "metadata": {},
     "output_type": "execute_result"
    }
   ],
   "source": [
    "con_matrix"
   ]
  },
  {
   "cell_type": "markdown",
   "metadata": {},
   "source": [
    "#### Top 52 Features"
   ]
  },
  {
   "cell_type": "code",
   "execution_count": 38,
   "metadata": {},
   "outputs": [
    {
     "name": "stderr",
     "output_type": "stream",
     "text": [
      "/Users/edwinotw/anaconda3/lib/python3.7/site-packages/sklearn/linear_model/logistic.py:432: FutureWarning: Default solver will be changed to 'lbfgs' in 0.22. Specify a solver to silence this warning.\n",
      "  FutureWarning)\n",
      "/Users/edwinotw/anaconda3/lib/python3.7/site-packages/sklearn/linear_model/logistic.py:1544: UserWarning: 'n_jobs' > 1 does not have any effect when 'solver' is set to 'liblinear'. Got 'n_jobs' = 8.\n",
      "  \" = {}.\".format(effective_n_jobs(self.n_jobs)))\n",
      "/Users/edwinotw/anaconda3/lib/python3.7/site-packages/sklearn/linear_model/logistic.py:432: FutureWarning: Default solver will be changed to 'lbfgs' in 0.22. Specify a solver to silence this warning.\n",
      "  FutureWarning)\n",
      "/Users/edwinotw/anaconda3/lib/python3.7/site-packages/sklearn/linear_model/logistic.py:1544: UserWarning: 'n_jobs' > 1 does not have any effect when 'solver' is set to 'liblinear'. Got 'n_jobs' = 8.\n",
      "  \" = {}.\".format(effective_n_jobs(self.n_jobs)))\n",
      "/Users/edwinotw/anaconda3/lib/python3.7/site-packages/sklearn/linear_model/logistic.py:432: FutureWarning: Default solver will be changed to 'lbfgs' in 0.22. Specify a solver to silence this warning.\n",
      "  FutureWarning)\n",
      "/Users/edwinotw/anaconda3/lib/python3.7/site-packages/sklearn/linear_model/logistic.py:1544: UserWarning: 'n_jobs' > 1 does not have any effect when 'solver' is set to 'liblinear'. Got 'n_jobs' = 8.\n",
      "  \" = {}.\".format(effective_n_jobs(self.n_jobs)))\n",
      "/Users/edwinotw/anaconda3/lib/python3.7/site-packages/sklearn/linear_model/logistic.py:432: FutureWarning: Default solver will be changed to 'lbfgs' in 0.22. Specify a solver to silence this warning.\n",
      "  FutureWarning)\n",
      "/Users/edwinotw/anaconda3/lib/python3.7/site-packages/sklearn/linear_model/logistic.py:1544: UserWarning: 'n_jobs' > 1 does not have any effect when 'solver' is set to 'liblinear'. Got 'n_jobs' = 8.\n",
      "  \" = {}.\".format(effective_n_jobs(self.n_jobs)))\n",
      "/Users/edwinotw/anaconda3/lib/python3.7/site-packages/sklearn/linear_model/logistic.py:432: FutureWarning: Default solver will be changed to 'lbfgs' in 0.22. Specify a solver to silence this warning.\n",
      "  FutureWarning)\n",
      "/Users/edwinotw/anaconda3/lib/python3.7/site-packages/sklearn/linear_model/logistic.py:1544: UserWarning: 'n_jobs' > 1 does not have any effect when 'solver' is set to 'liblinear'. Got 'n_jobs' = 8.\n",
      "  \" = {}.\".format(effective_n_jobs(self.n_jobs)))\n",
      "/Users/edwinotw/anaconda3/lib/python3.7/site-packages/sklearn/linear_model/logistic.py:432: FutureWarning: Default solver will be changed to 'lbfgs' in 0.22. Specify a solver to silence this warning.\n",
      "  FutureWarning)\n",
      "/Users/edwinotw/anaconda3/lib/python3.7/site-packages/sklearn/linear_model/logistic.py:1544: UserWarning: 'n_jobs' > 1 does not have any effect when 'solver' is set to 'liblinear'. Got 'n_jobs' = 8.\n",
      "  \" = {}.\".format(effective_n_jobs(self.n_jobs)))\n"
     ]
    },
    {
     "name": "stdout",
     "output_type": "stream",
     "text": [
      "Cross Validated Mean Train Score is: 0.6328380386329867\n",
      "Train Score is: 0.691089108910891\n",
      "Test Score is: 0.6386138613861386\n",
      "f1 Score is: 0.11192214111922141\n",
      "Precision is: 0.0620782726045884\n",
      "Recall is: 0.5679012345679012\n"
     ]
    }
   ],
   "source": [
    "# Score for Top 52 Features\n",
    "predict, con_matrix, report, tn, fp, fn, tp, probabilities = fit_and_test(ss, best_logit_52, X_train[top_feature_col_52], X_test[top_feature_col_52], y_train, y_test)"
   ]
  },
  {
   "cell_type": "code",
   "execution_count": 39,
   "metadata": {},
   "outputs": [
    {
     "data": {
      "text/plain": [
       "array([[1244,  695],\n",
       "       [  35,   46]])"
      ]
     },
     "execution_count": 39,
     "metadata": {},
     "output_type": "execute_result"
    }
   ],
   "source": [
    "con_matrix"
   ]
  },
  {
   "cell_type": "markdown",
   "metadata": {},
   "source": [
    "#### Top 77 Features"
   ]
  },
  {
   "cell_type": "code",
   "execution_count": 40,
   "metadata": {},
   "outputs": [
    {
     "name": "stderr",
     "output_type": "stream",
     "text": [
      "/Users/edwinotw/anaconda3/lib/python3.7/site-packages/sklearn/linear_model/logistic.py:432: FutureWarning: Default solver will be changed to 'lbfgs' in 0.22. Specify a solver to silence this warning.\n",
      "  FutureWarning)\n",
      "/Users/edwinotw/anaconda3/lib/python3.7/site-packages/sklearn/linear_model/logistic.py:1544: UserWarning: 'n_jobs' > 1 does not have any effect when 'solver' is set to 'liblinear'. Got 'n_jobs' = 8.\n",
      "  \" = {}.\".format(effective_n_jobs(self.n_jobs)))\n",
      "/Users/edwinotw/anaconda3/lib/python3.7/site-packages/sklearn/linear_model/logistic.py:432: FutureWarning: Default solver will be changed to 'lbfgs' in 0.22. Specify a solver to silence this warning.\n",
      "  FutureWarning)\n",
      "/Users/edwinotw/anaconda3/lib/python3.7/site-packages/sklearn/linear_model/logistic.py:1544: UserWarning: 'n_jobs' > 1 does not have any effect when 'solver' is set to 'liblinear'. Got 'n_jobs' = 8.\n",
      "  \" = {}.\".format(effective_n_jobs(self.n_jobs)))\n",
      "/Users/edwinotw/anaconda3/lib/python3.7/site-packages/sklearn/svm/base.py:929: ConvergenceWarning: Liblinear failed to converge, increase the number of iterations.\n",
      "  \"the number of iterations.\", ConvergenceWarning)\n",
      "/Users/edwinotw/anaconda3/lib/python3.7/site-packages/sklearn/linear_model/logistic.py:432: FutureWarning: Default solver will be changed to 'lbfgs' in 0.22. Specify a solver to silence this warning.\n",
      "  FutureWarning)\n",
      "/Users/edwinotw/anaconda3/lib/python3.7/site-packages/sklearn/linear_model/logistic.py:1544: UserWarning: 'n_jobs' > 1 does not have any effect when 'solver' is set to 'liblinear'. Got 'n_jobs' = 8.\n",
      "  \" = {}.\".format(effective_n_jobs(self.n_jobs)))\n",
      "/Users/edwinotw/anaconda3/lib/python3.7/site-packages/sklearn/svm/base.py:929: ConvergenceWarning: Liblinear failed to converge, increase the number of iterations.\n",
      "  \"the number of iterations.\", ConvergenceWarning)\n",
      "/Users/edwinotw/anaconda3/lib/python3.7/site-packages/sklearn/linear_model/logistic.py:432: FutureWarning: Default solver will be changed to 'lbfgs' in 0.22. Specify a solver to silence this warning.\n",
      "  FutureWarning)\n",
      "/Users/edwinotw/anaconda3/lib/python3.7/site-packages/sklearn/linear_model/logistic.py:1544: UserWarning: 'n_jobs' > 1 does not have any effect when 'solver' is set to 'liblinear'. Got 'n_jobs' = 8.\n",
      "  \" = {}.\".format(effective_n_jobs(self.n_jobs)))\n",
      "/Users/edwinotw/anaconda3/lib/python3.7/site-packages/sklearn/svm/base.py:929: ConvergenceWarning: Liblinear failed to converge, increase the number of iterations.\n",
      "  \"the number of iterations.\", ConvergenceWarning)\n",
      "/Users/edwinotw/anaconda3/lib/python3.7/site-packages/sklearn/linear_model/logistic.py:432: FutureWarning: Default solver will be changed to 'lbfgs' in 0.22. Specify a solver to silence this warning.\n",
      "  FutureWarning)\n",
      "/Users/edwinotw/anaconda3/lib/python3.7/site-packages/sklearn/linear_model/logistic.py:1544: UserWarning: 'n_jobs' > 1 does not have any effect when 'solver' is set to 'liblinear'. Got 'n_jobs' = 8.\n",
      "  \" = {}.\".format(effective_n_jobs(self.n_jobs)))\n",
      "/Users/edwinotw/anaconda3/lib/python3.7/site-packages/sklearn/svm/base.py:929: ConvergenceWarning: Liblinear failed to converge, increase the number of iterations.\n",
      "  \"the number of iterations.\", ConvergenceWarning)\n",
      "/Users/edwinotw/anaconda3/lib/python3.7/site-packages/sklearn/linear_model/logistic.py:432: FutureWarning: Default solver will be changed to 'lbfgs' in 0.22. Specify a solver to silence this warning.\n",
      "  FutureWarning)\n",
      "/Users/edwinotw/anaconda3/lib/python3.7/site-packages/sklearn/linear_model/logistic.py:1544: UserWarning: 'n_jobs' > 1 does not have any effect when 'solver' is set to 'liblinear'. Got 'n_jobs' = 8.\n",
      "  \" = {}.\".format(effective_n_jobs(self.n_jobs)))\n"
     ]
    },
    {
     "name": "stdout",
     "output_type": "stream",
     "text": [
      "Cross Validated Mean Train Score is: 0.6936106983655275\n",
      "Train Score is: 0.6954207920792079\n",
      "Test Score is: 0.6777227722772278\n",
      "f1 Score is: 0.12382234185733515\n",
      "Precision is: 0.06948640483383686\n",
      "Recall is: 0.5679012345679012\n"
     ]
    },
    {
     "name": "stderr",
     "output_type": "stream",
     "text": [
      "/Users/edwinotw/anaconda3/lib/python3.7/site-packages/sklearn/svm/base.py:929: ConvergenceWarning: Liblinear failed to converge, increase the number of iterations.\n",
      "  \"the number of iterations.\", ConvergenceWarning)\n"
     ]
    }
   ],
   "source": [
    "# Score for Top 77 Features\n",
    "predict, con_matrix, report, tn, fp, fn, tp, probabilities = fit_and_test(ss, best_logit_77, X_train[top_feature_col_77], X_test[top_feature_col_77], y_train, y_test)"
   ]
  },
  {
   "cell_type": "code",
   "execution_count": 41,
   "metadata": {},
   "outputs": [
    {
     "data": {
      "text/plain": [
       "array([[1323,  616],\n",
       "       [  35,   46]])"
      ]
     },
     "execution_count": 41,
     "metadata": {},
     "output_type": "execute_result"
    }
   ],
   "source": [
    "con_matrix"
   ]
  },
  {
   "cell_type": "markdown",
   "metadata": {},
   "source": [
    "## Random Forest"
   ]
  },
  {
   "cell_type": "markdown",
   "metadata": {},
   "source": [
    "### GridSearch"
   ]
  },
  {
   "cell_type": "code",
   "execution_count": 42,
   "metadata": {},
   "outputs": [],
   "source": [
    "pipe_rf = Pipeline([\n",
    "    ('ss', StandardScaler()),\n",
    "    ('rf', RandomForestClassifier())\n",
    "])"
   ]
  },
  {
   "cell_type": "code",
   "execution_count": 43,
   "metadata": {},
   "outputs": [],
   "source": [
    "pipe_params_rf = {\n",
    "    'rf__n_estimators' : [25,30,35],\n",
    "    'rf__max_features' : ['auto' ,10, 27],\n",
    "    'rf__max_depth' : [15,25,30,35],\n",
    "    'rf__class_weight': ['balanced', None]\n",
    "}"
   ]
  },
  {
   "cell_type": "code",
   "execution_count": 44,
   "metadata": {},
   "outputs": [
    {
     "name": "stdout",
     "output_type": "stream",
     "text": [
      "Best f1 Score: 0.0349318011321012\n",
      "Best Parameters: {'rf__class_weight': None, 'rf__max_depth': 30, 'rf__max_features': 27, 'rf__n_estimators': 25}\n"
     ]
    }
   ],
   "source": [
    "# 27 Features\n",
    "pipeline_gridsearch(pipe_rf, pipe_params_rf, X_train[top_feature_col_27], y_train)"
   ]
  },
  {
   "cell_type": "code",
   "execution_count": 45,
   "metadata": {},
   "outputs": [
    {
     "name": "stdout",
     "output_type": "stream",
     "text": [
      "Best f1 Score: 0.02512152085291075\n",
      "Best Parameters: {'rf__class_weight': None, 'rf__max_depth': 15, 'rf__max_features': 27, 'rf__n_estimators': 35}\n"
     ]
    }
   ],
   "source": [
    "# 52 Features\n",
    "pipeline_gridsearch(pipe_rf, pipe_params_rf, X_train[top_feature_col_52], y_train)"
   ]
  },
  {
   "cell_type": "code",
   "execution_count": 46,
   "metadata": {},
   "outputs": [
    {
     "name": "stdout",
     "output_type": "stream",
     "text": [
      "Best f1 Score: 0.029987936362400717\n",
      "Best Parameters: {'rf__class_weight': None, 'rf__max_depth': 35, 'rf__max_features': 27, 'rf__n_estimators': 25}\n"
     ]
    }
   ],
   "source": [
    "# 77 Features\n",
    "pipeline_gridsearch(pipe_rf, pipe_params_rf, X_train[top_feature_col_77], y_train)"
   ]
  },
  {
   "cell_type": "markdown",
   "metadata": {},
   "source": [
    "### Test Model"
   ]
  },
  {
   "cell_type": "code",
   "execution_count": 47,
   "metadata": {},
   "outputs": [],
   "source": [
    "# Model with Best Parameters\n",
    "best_rf_27 = RandomForestClassifier(class_weight = None, n_jobs = -1, max_depth = 30, max_features = 10, n_estimators = 25)\n",
    "best_rf_52 = RandomForestClassifier(class_weight = None, n_jobs = -1, max_depth = 35, max_features = 27, n_estimators = 25)\n",
    "best_rf_77 = RandomForestClassifier(class_weight = None, n_jobs = -1, max_depth = 35, max_features = 27, n_estimators = 25)"
   ]
  },
  {
   "cell_type": "markdown",
   "metadata": {},
   "source": [
    "#### Top 27 Features"
   ]
  },
  {
   "cell_type": "code",
   "execution_count": 48,
   "metadata": {},
   "outputs": [
    {
     "name": "stdout",
     "output_type": "stream",
     "text": [
      "Cross Validated Mean Train Score is: 0.936998514115899\n",
      "Train Score is: 0.9966584158415842\n",
      "Test Score is: 0.9356435643564357\n",
      "f1 Score is: 0.015151515151515152\n",
      "Precision is: 0.0196078431372549\n",
      "Recall is: 0.012345679012345678\n"
     ]
    }
   ],
   "source": [
    "# Score for Top 27 Features\n",
    "predict, con_matrix, report, tn, fp, fn, tp, probabilities = fit_and_test(ss, best_rf_27, X_train[top_feature_col_27], X_test[top_feature_col_27], y_train, y_test)"
   ]
  },
  {
   "cell_type": "code",
   "execution_count": 49,
   "metadata": {},
   "outputs": [
    {
     "data": {
      "text/plain": [
       "array([[1889,   50],\n",
       "       [  80,    1]])"
      ]
     },
     "execution_count": 49,
     "metadata": {},
     "output_type": "execute_result"
    }
   ],
   "source": [
    "con_matrix"
   ]
  },
  {
   "cell_type": "markdown",
   "metadata": {},
   "source": [
    "#### Top 52 Features"
   ]
  },
  {
   "cell_type": "code",
   "execution_count": 50,
   "metadata": {},
   "outputs": [
    {
     "name": "stdout",
     "output_type": "stream",
     "text": [
      "Cross Validated Mean Train Score is: 0.9392273402674591\n",
      "Train Score is: 0.9987623762376238\n",
      "Test Score is: 0.9356435643564357\n",
      "f1 Score is: 0.08450704225352113\n",
      "Precision is: 0.09836065573770492\n",
      "Recall is: 0.07407407407407407\n"
     ]
    }
   ],
   "source": [
    "# Score for Top 52 Features\n",
    "predict, con_matrix, report, tn, fp, fn, tp, probabilities = fit_and_test(ss, best_rf_52, X_train[top_feature_col_52], X_test[top_feature_col_52], y_train, y_test)"
   ]
  },
  {
   "cell_type": "code",
   "execution_count": 51,
   "metadata": {},
   "outputs": [
    {
     "data": {
      "text/plain": [
       "array([[1884,   55],\n",
       "       [  75,    6]])"
      ]
     },
     "execution_count": 51,
     "metadata": {},
     "output_type": "execute_result"
    }
   ],
   "source": [
    "con_matrix"
   ]
  },
  {
   "cell_type": "markdown",
   "metadata": {},
   "source": [
    "#### Top 77 Features"
   ]
  },
  {
   "cell_type": "code",
   "execution_count": 52,
   "metadata": {},
   "outputs": [
    {
     "name": "stdout",
     "output_type": "stream",
     "text": [
      "Cross Validated Mean Train Score is: 0.937444279346211\n",
      "Train Score is: 0.9982673267326733\n",
      "Test Score is: 0.9559405940594059\n",
      "f1 Score is: 0.0\n",
      "Precision is: 0.0\n",
      "Recall is: 0.0\n"
     ]
    }
   ],
   "source": [
    "# Score for Top 77 Features\n",
    "predict, con_matrix, report, tn, fp, fn, tp, probabilities = fit_and_test(ss, best_rf_77, X_train[top_feature_col_77], X_test[top_feature_col_77], y_train, y_test)"
   ]
  },
  {
   "cell_type": "code",
   "execution_count": 53,
   "metadata": {},
   "outputs": [
    {
     "data": {
      "text/plain": [
       "array([[1931,    8],\n",
       "       [  81,    0]])"
      ]
     },
     "execution_count": 53,
     "metadata": {},
     "output_type": "execute_result"
    }
   ],
   "source": [
    "con_matrix"
   ]
  },
  {
   "cell_type": "markdown",
   "metadata": {},
   "source": [
    "## KNearestNeighbors"
   ]
  },
  {
   "cell_type": "markdown",
   "metadata": {},
   "source": [
    "### GridSearch"
   ]
  },
  {
   "cell_type": "code",
   "execution_count": 54,
   "metadata": {},
   "outputs": [],
   "source": [
    "pipe_knn = Pipeline([\n",
    "    ('ss', StandardScaler()),\n",
    "    ('knn', KNeighborsClassifier())\n",
    "])"
   ]
  },
  {
   "cell_type": "code",
   "execution_count": 55,
   "metadata": {},
   "outputs": [],
   "source": [
    "pipe_params_knn = {\n",
    "    'knn__n_neighbors' : [13, 15],\n",
    "    'knn__leaf_size' : [3,4,5],\n",
    "}"
   ]
  },
  {
   "cell_type": "code",
   "execution_count": 56,
   "metadata": {},
   "outputs": [
    {
     "name": "stdout",
     "output_type": "stream",
     "text": [
      "Best f1 Score: 0.0\n",
      "Best Parameters: {'knn__leaf_size': 3, 'knn__n_neighbors': 13}\n"
     ]
    }
   ],
   "source": [
    "# 27 Features\n",
    "pipeline_gridsearch(pipe_knn, pipe_params_knn, X_train[top_feature_col_27], y_train)"
   ]
  },
  {
   "cell_type": "code",
   "execution_count": 57,
   "metadata": {},
   "outputs": [
    {
     "name": "stdout",
     "output_type": "stream",
     "text": [
      "Best f1 Score: 0.0\n",
      "Best Parameters: {'knn__leaf_size': 3, 'knn__n_neighbors': 13}\n"
     ]
    }
   ],
   "source": [
    "# 52 Features\n",
    "pipeline_gridsearch(pipe_knn, pipe_params_knn, X_train[top_feature_col_52], y_train)"
   ]
  },
  {
   "cell_type": "code",
   "execution_count": 58,
   "metadata": {},
   "outputs": [
    {
     "name": "stdout",
     "output_type": "stream",
     "text": [
      "Best f1 Score: 0.0\n",
      "Best Parameters: {'knn__leaf_size': 3, 'knn__n_neighbors': 13}\n"
     ]
    }
   ],
   "source": [
    "# 77 Features\n",
    "pipeline_gridsearch(pipe_knn, pipe_params_knn, X_train[top_feature_col_77], y_train)"
   ]
  },
  {
   "cell_type": "markdown",
   "metadata": {},
   "source": [
    "### Test Model"
   ]
  },
  {
   "cell_type": "code",
   "execution_count": 59,
   "metadata": {},
   "outputs": [],
   "source": [
    "# Model with Best Parameters\n",
    "best_knn = KNeighborsClassifier(leaf_size = 3, n_neighbors = 13, n_jobs = -1)"
   ]
  },
  {
   "cell_type": "markdown",
   "metadata": {},
   "source": [
    "#### Top 27 Features"
   ]
  },
  {
   "cell_type": "code",
   "execution_count": 60,
   "metadata": {},
   "outputs": [
    {
     "name": "stderr",
     "output_type": "stream",
     "text": [
      "/Users/edwinotw/anaconda3/lib/python3.7/site-packages/sklearn/metrics/classification.py:1437: UndefinedMetricWarning: Precision and F-score are ill-defined and being set to 0.0 in labels with no predicted samples.\n",
      "  'precision', 'predicted', average, warn_for)\n"
     ]
    },
    {
     "name": "stdout",
     "output_type": "stream",
     "text": [
      "Cross Validated Mean Train Score is: 0.9598811292719167\n",
      "Train Score is: 0.9592821782178218\n",
      "Test Score is: 0.9599009900990099\n",
      "f1 Score is: 0.0\n",
      "Precision is: 0.0\n",
      "Recall is: 0.0\n"
     ]
    },
    {
     "name": "stderr",
     "output_type": "stream",
     "text": [
      "/Users/edwinotw/anaconda3/lib/python3.7/site-packages/sklearn/metrics/classification.py:1437: UndefinedMetricWarning: F-score is ill-defined and being set to 0.0 due to no predicted samples.\n",
      "  'precision', 'predicted', average, warn_for)\n",
      "/Users/edwinotw/anaconda3/lib/python3.7/site-packages/sklearn/metrics/classification.py:1437: UndefinedMetricWarning: Precision is ill-defined and being set to 0.0 due to no predicted samples.\n",
      "  'precision', 'predicted', average, warn_for)\n"
     ]
    }
   ],
   "source": [
    "# Score for Top 27 Features\n",
    "predict, con_matrix, report, tn, fp, fn, tp, probabilities = fit_and_test(ss, best_knn, X_train[top_feature_col_27], X_test[top_feature_col_27], y_train, y_test)"
   ]
  },
  {
   "cell_type": "code",
   "execution_count": 61,
   "metadata": {},
   "outputs": [
    {
     "data": {
      "text/plain": [
       "array([[1939,    0],\n",
       "       [  81,    0]])"
      ]
     },
     "execution_count": 61,
     "metadata": {},
     "output_type": "execute_result"
    }
   ],
   "source": [
    "con_matrix"
   ]
  },
  {
   "cell_type": "markdown",
   "metadata": {},
   "source": [
    "#### Top 52 Features"
   ]
  },
  {
   "cell_type": "code",
   "execution_count": 62,
   "metadata": {},
   "outputs": [
    {
     "name": "stderr",
     "output_type": "stream",
     "text": [
      "/Users/edwinotw/anaconda3/lib/python3.7/site-packages/sklearn/metrics/classification.py:1437: UndefinedMetricWarning: Precision and F-score are ill-defined and being set to 0.0 in labels with no predicted samples.\n",
      "  'precision', 'predicted', average, warn_for)\n"
     ]
    },
    {
     "name": "stdout",
     "output_type": "stream",
     "text": [
      "Cross Validated Mean Train Score is: 0.9598811292719167\n",
      "Train Score is: 0.9592821782178218\n",
      "Test Score is: 0.9599009900990099\n",
      "f1 Score is: 0.0\n",
      "Precision is: 0.0\n",
      "Recall is: 0.0\n"
     ]
    },
    {
     "name": "stderr",
     "output_type": "stream",
     "text": [
      "/Users/edwinotw/anaconda3/lib/python3.7/site-packages/sklearn/metrics/classification.py:1437: UndefinedMetricWarning: F-score is ill-defined and being set to 0.0 due to no predicted samples.\n",
      "  'precision', 'predicted', average, warn_for)\n",
      "/Users/edwinotw/anaconda3/lib/python3.7/site-packages/sklearn/metrics/classification.py:1437: UndefinedMetricWarning: Precision is ill-defined and being set to 0.0 due to no predicted samples.\n",
      "  'precision', 'predicted', average, warn_for)\n"
     ]
    }
   ],
   "source": [
    "# Score for Top 52 Features\n",
    "predict, con_matrix, report, tn, fp, fn, tp, probabilities = fit_and_test(ss, best_knn, X_train[top_feature_col_52], X_test[top_feature_col_52], y_train, y_test)"
   ]
  },
  {
   "cell_type": "code",
   "execution_count": 63,
   "metadata": {},
   "outputs": [
    {
     "data": {
      "text/plain": [
       "array([[1939,    0],\n",
       "       [  81,    0]])"
      ]
     },
     "execution_count": 63,
     "metadata": {},
     "output_type": "execute_result"
    }
   ],
   "source": [
    "con_matrix"
   ]
  },
  {
   "cell_type": "markdown",
   "metadata": {},
   "source": [
    "#### Top 77 Features"
   ]
  },
  {
   "cell_type": "code",
   "execution_count": 64,
   "metadata": {},
   "outputs": [
    {
     "name": "stderr",
     "output_type": "stream",
     "text": [
      "/Users/edwinotw/anaconda3/lib/python3.7/site-packages/sklearn/metrics/classification.py:1437: UndefinedMetricWarning: Precision and F-score are ill-defined and being set to 0.0 in labels with no predicted samples.\n",
      "  'precision', 'predicted', average, warn_for)\n"
     ]
    },
    {
     "name": "stdout",
     "output_type": "stream",
     "text": [
      "Cross Validated Mean Train Score is: 0.9598811292719167\n",
      "Train Score is: 0.9592821782178218\n",
      "Test Score is: 0.9599009900990099\n",
      "f1 Score is: 0.0\n",
      "Precision is: 0.0\n",
      "Recall is: 0.0\n"
     ]
    },
    {
     "name": "stderr",
     "output_type": "stream",
     "text": [
      "/Users/edwinotw/anaconda3/lib/python3.7/site-packages/sklearn/metrics/classification.py:1437: UndefinedMetricWarning: F-score is ill-defined and being set to 0.0 due to no predicted samples.\n",
      "  'precision', 'predicted', average, warn_for)\n",
      "/Users/edwinotw/anaconda3/lib/python3.7/site-packages/sklearn/metrics/classification.py:1437: UndefinedMetricWarning: Precision is ill-defined and being set to 0.0 due to no predicted samples.\n",
      "  'precision', 'predicted', average, warn_for)\n"
     ]
    }
   ],
   "source": [
    "# Score for Top 77 Features\n",
    "predict, con_matrix, report, tn, fp, fn, tp, probabilities = fit_and_test(ss, best_knn, X_train[top_feature_col_77], X_test[top_feature_col_77], y_train, y_test)"
   ]
  },
  {
   "cell_type": "code",
   "execution_count": 65,
   "metadata": {},
   "outputs": [
    {
     "data": {
      "text/plain": [
       "array([[1939,    0],\n",
       "       [  81,    0]])"
      ]
     },
     "execution_count": 65,
     "metadata": {},
     "output_type": "execute_result"
    }
   ],
   "source": [
    "con_matrix"
   ]
  },
  {
   "cell_type": "markdown",
   "metadata": {},
   "source": [
    "## SVM"
   ]
  },
  {
   "cell_type": "markdown",
   "metadata": {},
   "source": [
    "### GridSearch"
   ]
  },
  {
   "cell_type": "code",
   "execution_count": 66,
   "metadata": {},
   "outputs": [],
   "source": [
    "pipe_svc = Pipeline([\n",
    "    ('ss', StandardScaler()),\n",
    "    ('svc', SVC())\n",
    "])"
   ]
  },
  {
   "cell_type": "code",
   "execution_count": 67,
   "metadata": {},
   "outputs": [],
   "source": [
    "pipe_params_svc = {\n",
    "    'svc__C' : [0.1,1],\n",
    "    'svc__degree' : [0,1],\n",
    "    'svc__gamma' : [1,2],\n",
    "    'svc__kernel' : ['rbf'],\n",
    "    'svc__class_weight' : ['balanced']\n",
    "}"
   ]
  },
  {
   "cell_type": "code",
   "execution_count": 68,
   "metadata": {},
   "outputs": [
    {
     "name": "stderr",
     "output_type": "stream",
     "text": [
      "/Users/edwinotw/anaconda3/lib/python3.7/site-packages/joblib/externals/loky/process_executor.py:706: UserWarning: A worker stopped while some jobs were given to the executor. This can be caused by a too short worker timeout or by a memory leak.\n",
      "  \"timeout or by a memory leak.\", UserWarning\n"
     ]
    },
    {
     "name": "stdout",
     "output_type": "stream",
     "text": [
      "Best f1 Score: 0.0\n",
      "Best Parameters: {'svc__C': 0.1, 'svc__class_weight': 'balanced', 'svc__degree': 0, 'svc__gamma': 1, 'svc__kernel': 'rbf'}\n"
     ]
    }
   ],
   "source": [
    "# 27 Features\n",
    "pipeline_gridsearch(pipe_svc, pipe_params_svc, X_train[top_feature_col_27], y_train)"
   ]
  },
  {
   "cell_type": "code",
   "execution_count": 69,
   "metadata": {},
   "outputs": [
    {
     "name": "stderr",
     "output_type": "stream",
     "text": [
      "/Users/edwinotw/anaconda3/lib/python3.7/site-packages/joblib/externals/loky/process_executor.py:706: UserWarning: A worker stopped while some jobs were given to the executor. This can be caused by a too short worker timeout or by a memory leak.\n",
      "  \"timeout or by a memory leak.\", UserWarning\n"
     ]
    },
    {
     "name": "stdout",
     "output_type": "stream",
     "text": [
      "Best f1 Score: 0.0\n",
      "Best Parameters: {'svc__C': 0.1, 'svc__class_weight': 'balanced', 'svc__degree': 0, 'svc__gamma': 1, 'svc__kernel': 'rbf'}\n"
     ]
    }
   ],
   "source": [
    "# 52 Features\n",
    "pipeline_gridsearch(pipe_svc, pipe_params_svc, X_train[top_feature_col_52], y_train)"
   ]
  },
  {
   "cell_type": "code",
   "execution_count": 70,
   "metadata": {},
   "outputs": [
    {
     "name": "stderr",
     "output_type": "stream",
     "text": [
      "/Users/edwinotw/anaconda3/lib/python3.7/site-packages/joblib/externals/loky/process_executor.py:706: UserWarning: A worker stopped while some jobs were given to the executor. This can be caused by a too short worker timeout or by a memory leak.\n",
      "  \"timeout or by a memory leak.\", UserWarning\n"
     ]
    },
    {
     "name": "stdout",
     "output_type": "stream",
     "text": [
      "Best f1 Score: 0.0\n",
      "Best Parameters: {'svc__C': 0.1, 'svc__class_weight': 'balanced', 'svc__degree': 0, 'svc__gamma': 1, 'svc__kernel': 'rbf'}\n"
     ]
    }
   ],
   "source": [
    "# 77 Features\n",
    "pipeline_gridsearch(pipe_svc, pipe_params_svc, X_train[top_feature_col_77], y_train)"
   ]
  },
  {
   "cell_type": "markdown",
   "metadata": {},
   "source": [
    "### Test Model"
   ]
  },
  {
   "cell_type": "code",
   "execution_count": 71,
   "metadata": {},
   "outputs": [],
   "source": [
    "# Model with Best Parameters\n",
    "best_svc = SVC(class_weight = 'balanced', C = 0.1, degree = 0, gamma = 1, kernel = 'rbf', probability = True)"
   ]
  },
  {
   "cell_type": "markdown",
   "metadata": {},
   "source": [
    "#### Top 27 Features"
   ]
  },
  {
   "cell_type": "code",
   "execution_count": 72,
   "metadata": {},
   "outputs": [
    {
     "name": "stdout",
     "output_type": "stream",
     "text": [
      "Cross Validated Mean Train Score is: 0.9598811292719167\n",
      "Train Score is: 0.9556930693069307\n",
      "Test Score is: 0.9559405940594059\n",
      "f1 Score is: 0.0\n",
      "Precision is: 0.0\n",
      "Recall is: 0.0\n"
     ]
    }
   ],
   "source": [
    "# Score for Top 27 Features\n",
    "predict, con_matrix, report, tn, fp, fn, tp, probabilities = fit_and_test(ss, best_svc, X_train[top_feature_col_27], X_test[top_feature_col_27], y_train, y_test)"
   ]
  },
  {
   "cell_type": "code",
   "execution_count": 73,
   "metadata": {},
   "outputs": [
    {
     "data": {
      "text/plain": [
       "array([[1931,    8],\n",
       "       [  81,    0]])"
      ]
     },
     "execution_count": 73,
     "metadata": {},
     "output_type": "execute_result"
    }
   ],
   "source": [
    "con_matrix"
   ]
  },
  {
   "cell_type": "markdown",
   "metadata": {},
   "source": [
    "#### Top 52 Features"
   ]
  },
  {
   "cell_type": "code",
   "execution_count": 74,
   "metadata": {},
   "outputs": [
    {
     "name": "stderr",
     "output_type": "stream",
     "text": [
      "/Users/edwinotw/anaconda3/lib/python3.7/site-packages/sklearn/metrics/classification.py:1437: UndefinedMetricWarning: Precision and F-score are ill-defined and being set to 0.0 in labels with no predicted samples.\n",
      "  'precision', 'predicted', average, warn_for)\n"
     ]
    },
    {
     "name": "stdout",
     "output_type": "stream",
     "text": [
      "Cross Validated Mean Train Score is: 0.9598811292719167\n",
      "Train Score is: 1.0\n",
      "Test Score is: 0.9599009900990099\n",
      "f1 Score is: 0.0\n",
      "Precision is: 0.0\n",
      "Recall is: 0.0\n"
     ]
    },
    {
     "name": "stderr",
     "output_type": "stream",
     "text": [
      "/Users/edwinotw/anaconda3/lib/python3.7/site-packages/sklearn/metrics/classification.py:1437: UndefinedMetricWarning: F-score is ill-defined and being set to 0.0 due to no predicted samples.\n",
      "  'precision', 'predicted', average, warn_for)\n",
      "/Users/edwinotw/anaconda3/lib/python3.7/site-packages/sklearn/metrics/classification.py:1437: UndefinedMetricWarning: Precision is ill-defined and being set to 0.0 due to no predicted samples.\n",
      "  'precision', 'predicted', average, warn_for)\n"
     ]
    }
   ],
   "source": [
    "# Score for Top 52 Features\n",
    "predict, con_matrix, report, tn, fp, fn, tp, probabilities = fit_and_test(ss, best_svc, X_train[top_feature_col_52], X_test[top_feature_col_52], y_train, y_test)"
   ]
  },
  {
   "cell_type": "code",
   "execution_count": 75,
   "metadata": {},
   "outputs": [
    {
     "data": {
      "text/plain": [
       "array([[1939,    0],\n",
       "       [  81,    0]])"
      ]
     },
     "execution_count": 75,
     "metadata": {},
     "output_type": "execute_result"
    }
   ],
   "source": [
    "con_matrix"
   ]
  },
  {
   "cell_type": "markdown",
   "metadata": {},
   "source": [
    "#### Top 77 Features"
   ]
  },
  {
   "cell_type": "code",
   "execution_count": 76,
   "metadata": {},
   "outputs": [
    {
     "name": "stderr",
     "output_type": "stream",
     "text": [
      "/Users/edwinotw/anaconda3/lib/python3.7/site-packages/sklearn/metrics/classification.py:1437: UndefinedMetricWarning: Precision and F-score are ill-defined and being set to 0.0 in labels with no predicted samples.\n",
      "  'precision', 'predicted', average, warn_for)\n"
     ]
    },
    {
     "name": "stdout",
     "output_type": "stream",
     "text": [
      "Cross Validated Mean Train Score is: 0.9598811292719167\n",
      "Train Score is: 1.0\n",
      "Test Score is: 0.9599009900990099\n",
      "f1 Score is: 0.0\n",
      "Precision is: 0.0\n",
      "Recall is: 0.0\n"
     ]
    },
    {
     "name": "stderr",
     "output_type": "stream",
     "text": [
      "/Users/edwinotw/anaconda3/lib/python3.7/site-packages/sklearn/metrics/classification.py:1437: UndefinedMetricWarning: F-score is ill-defined and being set to 0.0 due to no predicted samples.\n",
      "  'precision', 'predicted', average, warn_for)\n",
      "/Users/edwinotw/anaconda3/lib/python3.7/site-packages/sklearn/metrics/classification.py:1437: UndefinedMetricWarning: Precision is ill-defined and being set to 0.0 due to no predicted samples.\n",
      "  'precision', 'predicted', average, warn_for)\n"
     ]
    }
   ],
   "source": [
    "# Score for Top 77 Features\n",
    "predict, con_matrix, report, tn, fp, fn, tp, probabilities = fit_and_test(ss, best_svc, X_train[top_feature_col_77], X_test[top_feature_col_77], y_train, y_test)"
   ]
  },
  {
   "cell_type": "code",
   "execution_count": 77,
   "metadata": {},
   "outputs": [
    {
     "data": {
      "text/plain": [
       "array([[1939,    0],\n",
       "       [  81,    0]])"
      ]
     },
     "execution_count": 77,
     "metadata": {},
     "output_type": "execute_result"
    }
   ],
   "source": [
    "con_matrix"
   ]
  },
  {
   "cell_type": "markdown",
   "metadata": {},
   "source": [
    "## Naive Bayes"
   ]
  },
  {
   "cell_type": "code",
   "execution_count": 78,
   "metadata": {},
   "outputs": [],
   "source": [
    "nb = GaussianNB(priors = None)"
   ]
  },
  {
   "cell_type": "markdown",
   "metadata": {},
   "source": [
    "#### Top 27 Features"
   ]
  },
  {
   "cell_type": "code",
   "execution_count": 79,
   "metadata": {},
   "outputs": [
    {
     "name": "stdout",
     "output_type": "stream",
     "text": [
      "Cross Validated Mean Train Score is: 0.9598811292719167\n",
      "Train Score is: 0.8\n",
      "Test Score is: 0.7772277227722773\n",
      "f1 Score is: 0.07407407407407407\n",
      "Precision is: 0.044444444444444446\n",
      "Recall is: 0.2222222222222222\n"
     ]
    },
    {
     "data": {
      "text/plain": [
       "array([[1552,  387],\n",
       "       [  63,   18]])"
      ]
     },
     "execution_count": 79,
     "metadata": {},
     "output_type": "execute_result"
    }
   ],
   "source": [
    "predict, con_matrix, report, tn, fp, fn, tp, probabilities = fit_and_test(ss, nb, X_train[top_feature_col_27], X_test[top_feature_col_27], y_train, y_test)\n",
    "con_matrix"
   ]
  },
  {
   "cell_type": "markdown",
   "metadata": {},
   "source": [
    "#### Top 52 Features"
   ]
  },
  {
   "cell_type": "code",
   "execution_count": 80,
   "metadata": {},
   "outputs": [
    {
     "name": "stdout",
     "output_type": "stream",
     "text": [
      "Cross Validated Mean Train Score is: 0.9401188707280832\n",
      "Train Score is: 0.8204207920792079\n",
      "Test Score is: 0.842079207920792\n",
      "f1 Score is: 0.08595988538681949\n",
      "Precision is: 0.055970149253731345\n",
      "Recall is: 0.18518518518518517\n"
     ]
    },
    {
     "data": {
      "text/plain": [
       "array([[1686,  253],\n",
       "       [  66,   15]])"
      ]
     },
     "execution_count": 80,
     "metadata": {},
     "output_type": "execute_result"
    }
   ],
   "source": [
    "predict, con_matrix, report, tn, fp, fn, tp, probabilities = fit_and_test(ss, nb, X_train[top_feature_col_52], X_test[top_feature_col_52], y_train, y_test)\n",
    "con_matrix"
   ]
  },
  {
   "cell_type": "markdown",
   "metadata": {},
   "source": [
    "#### Top 77 Features"
   ]
  },
  {
   "cell_type": "code",
   "execution_count": 81,
   "metadata": {},
   "outputs": [
    {
     "name": "stdout",
     "output_type": "stream",
     "text": [
      "Cross Validated Mean Train Score is: 0.936998514115899\n",
      "Train Score is: 0.8523514851485149\n",
      "Test Score is: 0.8727722772277228\n",
      "f1 Score is: 0.09824561403508773\n",
      "Precision is: 0.06862745098039216\n",
      "Recall is: 0.1728395061728395\n"
     ]
    },
    {
     "data": {
      "text/plain": [
       "array([[1749,  190],\n",
       "       [  67,   14]])"
      ]
     },
     "execution_count": 81,
     "metadata": {},
     "output_type": "execute_result"
    }
   ],
   "source": [
    "predict, con_matrix, report, tn, fp, fn, tp, probabilities = fit_and_test(ss, nb, X_train[top_feature_col_77], X_test[top_feature_col_77], y_train, y_test)\n",
    "con_matrix"
   ]
  },
  {
   "cell_type": "markdown",
   "metadata": {},
   "source": [
    "## Ada Boost"
   ]
  },
  {
   "cell_type": "markdown",
   "metadata": {},
   "source": [
    "### GridSearch"
   ]
  },
  {
   "cell_type": "code",
   "execution_count": 83,
   "metadata": {},
   "outputs": [],
   "source": [
    "pipe_ada = Pipeline([\n",
    "    ('ss', StandardScaler()),\n",
    "    ('ada', AdaBoostClassifier())\n",
    "])\n",
    "\n",
    "pipe_params_ada = {\n",
    "    'ada__n_estimators' : [10, 50, 100, 150],\n",
    "    'ada__learning_rate' : [1.0, 2.0, 3.0]\n",
    "}"
   ]
  },
  {
   "cell_type": "code",
   "execution_count": 84,
   "metadata": {},
   "outputs": [
    {
     "name": "stdout",
     "output_type": "stream",
     "text": [
      "Best f1 Score: 0.08836992711682136\n",
      "Best Parameters: {'ada__learning_rate': 2.0, 'ada__n_estimators': 100}\n"
     ]
    }
   ],
   "source": [
    "# 27 Features\n",
    "pipeline_gridsearch(pipe_ada, pipe_params_ada, X_train[top_feature_col_27], y_train)"
   ]
  },
  {
   "cell_type": "code",
   "execution_count": 85,
   "metadata": {},
   "outputs": [
    {
     "name": "stdout",
     "output_type": "stream",
     "text": [
      "Best f1 Score: 0.11377040798507605\n",
      "Best Parameters: {'ada__learning_rate': 2.0, 'ada__n_estimators': 10}\n"
     ]
    }
   ],
   "source": [
    "# 52 Features\n",
    "pipeline_gridsearch(pipe_ada, pipe_params_ada, X_train[top_feature_col_52], y_train)"
   ]
  },
  {
   "cell_type": "code",
   "execution_count": 86,
   "metadata": {
    "scrolled": true
   },
   "outputs": [
    {
     "name": "stdout",
     "output_type": "stream",
     "text": [
      "Best f1 Score: 0.11242288938233112\n",
      "Best Parameters: {'ada__learning_rate': 2.0, 'ada__n_estimators': 10}\n"
     ]
    }
   ],
   "source": [
    "# 77 Features\n",
    "pipeline_gridsearch(pipe_ada, pipe_params_ada, X_train[top_feature_col_77], y_train)"
   ]
  },
  {
   "cell_type": "markdown",
   "metadata": {},
   "source": [
    "### Test Model"
   ]
  },
  {
   "cell_type": "code",
   "execution_count": 87,
   "metadata": {},
   "outputs": [],
   "source": [
    "# Model with Best Parameters\n",
    "best_ada_27 = AdaBoostClassifier(learning_rate = 2, n_estimators = 10)\n",
    "best_ada_52 = AdaBoostClassifier(learning_rate = 2, n_estimators = 10)\n",
    "best_ada_77 = AdaBoostClassifier(learning_rate = 2, n_estimators = 10)"
   ]
  },
  {
   "cell_type": "markdown",
   "metadata": {},
   "source": [
    "#### Top 27 Features"
   ]
  },
  {
   "cell_type": "code",
   "execution_count": 88,
   "metadata": {},
   "outputs": [
    {
     "name": "stdout",
     "output_type": "stream",
     "text": [
      "Cross Validated Mean Train Score is: 0.6398216939078752\n",
      "Train Score is: 0.8753712871287128\n",
      "Test Score is: 0.8678217821782178\n",
      "f1 Score is: 0.056537102473498226\n",
      "Precision is: 0.039603960396039604\n",
      "Recall is: 0.09876543209876543\n"
     ]
    },
    {
     "data": {
      "text/plain": [
       "array([[1745,  194],\n",
       "       [  73,    8]])"
      ]
     },
     "execution_count": 88,
     "metadata": {},
     "output_type": "execute_result"
    }
   ],
   "source": [
    "predict, con_matrix, report, tn, fp, fn, tp, probabilities = fit_and_test(ss, best_ada_27, X_train[top_feature_col_27], X_test[top_feature_col_27], y_train, y_test)\n",
    "con_matrix"
   ]
  },
  {
   "cell_type": "markdown",
   "metadata": {},
   "source": [
    "#### Top 52 Features"
   ]
  },
  {
   "cell_type": "code",
   "execution_count": 89,
   "metadata": {},
   "outputs": [
    {
     "name": "stdout",
     "output_type": "stream",
     "text": [
      "Cross Validated Mean Train Score is: 0.7126300148588409\n",
      "Train Score is: 0.897029702970297\n",
      "Test Score is: 0.898019801980198\n",
      "f1 Score is: 0.10434782608695652\n",
      "Precision is: 0.08053691275167785\n",
      "Recall is: 0.14814814814814814\n"
     ]
    },
    {
     "data": {
      "text/plain": [
       "array([[1802,  137],\n",
       "       [  69,   12]])"
      ]
     },
     "execution_count": 89,
     "metadata": {},
     "output_type": "execute_result"
    }
   ],
   "source": [
    "predict, con_matrix, report, tn, fp, fn, tp, probabilities = fit_and_test(ss, best_ada_52, X_train[top_feature_col_52], X_test[top_feature_col_52], y_train, y_test)\n",
    "con_matrix"
   ]
  },
  {
   "cell_type": "markdown",
   "metadata": {},
   "source": [
    "#### Top 77 Features"
   ]
  },
  {
   "cell_type": "code",
   "execution_count": 90,
   "metadata": {},
   "outputs": [
    {
     "name": "stdout",
     "output_type": "stream",
     "text": [
      "Cross Validated Mean Train Score is: 0.6722139673105498\n",
      "Train Score is: 0.8929455445544554\n",
      "Test Score is: 0.8935643564356436\n",
      "f1 Score is: 0.11522633744855966\n",
      "Precision is: 0.08641975308641975\n",
      "Recall is: 0.1728395061728395\n"
     ]
    },
    {
     "data": {
      "text/plain": [
       "array([[1791,  148],\n",
       "       [  67,   14]])"
      ]
     },
     "execution_count": 90,
     "metadata": {},
     "output_type": "execute_result"
    }
   ],
   "source": [
    "predict, con_matrix, report, tn, fp, fn, tp, probabilities = fit_and_test(ss, best_ada_77, X_train[top_feature_col_77], X_test[top_feature_col_77], y_train, y_test)\n",
    "con_matrix"
   ]
  },
  {
   "cell_type": "markdown",
   "metadata": {},
   "source": [
    "## Gradient Boost"
   ]
  },
  {
   "cell_type": "markdown",
   "metadata": {},
   "source": [
    "### GridSearch"
   ]
  },
  {
   "cell_type": "code",
   "execution_count": 91,
   "metadata": {},
   "outputs": [],
   "source": [
    "pipe_gb = Pipeline([\n",
    "    ('ss', StandardScaler()),\n",
    "    ('gb', GradientBoostingClassifier())\n",
    "])\n",
    "\n",
    "pipe_params_gb = {\n",
    "    'gb__n_estimators' : [20,25],\n",
    "    'gb__learning_rate' : [1, 2],\n",
    "    'gb__max_depth' : [30,40,50],\n",
    "    'gb__min_samples_split' : [10, 20],\n",
    "    'gb__min_samples_leaf' : [3,10],\n",
    "    'gb__max_features': [None, 'sqrt', 'log2']\n",
    "}"
   ]
  },
  {
   "cell_type": "code",
   "execution_count": 92,
   "metadata": {},
   "outputs": [
    {
     "name": "stdout",
     "output_type": "stream",
     "text": [
      "Best f1 Score: 0.10001569580905335\n",
      "Best Parameters: {'gb__learning_rate': 1, 'gb__max_depth': 40, 'gb__max_features': 'sqrt', 'gb__min_samples_leaf': 10, 'gb__min_samples_split': 20, 'gb__n_estimators': 20}\n"
     ]
    }
   ],
   "source": [
    "# 27 Features\n",
    "pipeline_gridsearch(pipe_gb, pipe_params_gb, X_train[top_feature_col_27], y_train)"
   ]
  },
  {
   "cell_type": "code",
   "execution_count": 93,
   "metadata": {},
   "outputs": [
    {
     "name": "stdout",
     "output_type": "stream",
     "text": [
      "Best f1 Score: 0.10459521404149483\n",
      "Best Parameters: {'gb__learning_rate': 1, 'gb__max_depth': 50, 'gb__max_features': 'log2', 'gb__min_samples_leaf': 3, 'gb__min_samples_split': 10, 'gb__n_estimators': 20}\n"
     ]
    }
   ],
   "source": [
    "# 52 Features\n",
    "pipeline_gridsearch(pipe_gb, pipe_params_gb, X_train[top_feature_col_52], y_train)"
   ]
  },
  {
   "cell_type": "code",
   "execution_count": 94,
   "metadata": {},
   "outputs": [
    {
     "name": "stdout",
     "output_type": "stream",
     "text": [
      "Best f1 Score: 0.1003470212382569\n",
      "Best Parameters: {'gb__learning_rate': 1, 'gb__max_depth': 30, 'gb__max_features': 'sqrt', 'gb__min_samples_leaf': 10, 'gb__min_samples_split': 10, 'gb__n_estimators': 20}\n"
     ]
    }
   ],
   "source": [
    "# 77 Features\n",
    "pipeline_gridsearch(pipe_gb, pipe_params_gb, X_train[top_feature_col_77], y_train)"
   ]
  },
  {
   "cell_type": "markdown",
   "metadata": {},
   "source": [
    "### Test Model"
   ]
  },
  {
   "cell_type": "code",
   "execution_count": 95,
   "metadata": {},
   "outputs": [],
   "source": [
    "# Model with Best Parameters\n",
    "best_gb_27 = GradientBoostingClassifier(learning_rate = 1, n_estimators = 20, max_depth = 50, max_features = 'log2', min_samples_leaf = 3, min_samples_split = 10)\n",
    "best_gb_52 = GradientBoostingClassifier(learning_rate = 1, n_estimators = 25, max_depth = 30, max_features = None, min_samples_leaf = 10, min_samples_split = 20)\n",
    "best_gb_77 = GradientBoostingClassifier(learning_rate = 1, n_estimators = 25, max_depth = 50, max_features = 'log2', min_samples_leaf = 10, min_samples_split = 20)"
   ]
  },
  {
   "cell_type": "markdown",
   "metadata": {},
   "source": [
    "#### Top 27 Features"
   ]
  },
  {
   "cell_type": "code",
   "execution_count": 96,
   "metadata": {},
   "outputs": [
    {
     "name": "stdout",
     "output_type": "stream",
     "text": [
      "Cross Validated Mean Train Score is: 0.8056463595839525\n",
      "Train Score is: 0.9949257425742575\n",
      "Test Score is: 0.806930693069307\n",
      "f1 Score is: 0.05339805825242718\n",
      "Precision is: 0.03323262839879154\n",
      "Recall is: 0.13580246913580246\n"
     ]
    },
    {
     "data": {
      "text/plain": [
       "array([[1619,  320],\n",
       "       [  70,   11]])"
      ]
     },
     "execution_count": 96,
     "metadata": {},
     "output_type": "execute_result"
    }
   ],
   "source": [
    "predict, con_matrix, report, tn, fp, fn, tp, probabilities = fit_and_test(ss, best_gb_27, X_train[top_feature_col_27], X_test[top_feature_col_27], y_train, y_test)\n",
    "con_matrix"
   ]
  },
  {
   "cell_type": "markdown",
   "metadata": {},
   "source": [
    "#### Top 52 Features"
   ]
  },
  {
   "cell_type": "code",
   "execution_count": 97,
   "metadata": {},
   "outputs": [
    {
     "name": "stdout",
     "output_type": "stream",
     "text": [
      "Cross Validated Mean Train Score is: 0.8542347696879643\n",
      "Train Score is: 0.9594059405940594\n",
      "Test Score is: 0.905940594059406\n",
      "f1 Score is: 0.03061224489795918\n",
      "Precision is: 0.02608695652173913\n",
      "Recall is: 0.037037037037037035\n"
     ]
    },
    {
     "data": {
      "text/plain": [
       "array([[1827,  112],\n",
       "       [  78,    3]])"
      ]
     },
     "execution_count": 97,
     "metadata": {},
     "output_type": "execute_result"
    }
   ],
   "source": [
    "predict, con_matrix, report, tn, fp, fn, tp, probabilities = fit_and_test(ss, best_gb_52, X_train[top_feature_col_52], X_test[top_feature_col_52], y_train, y_test)\n",
    "con_matrix"
   ]
  },
  {
   "cell_type": "markdown",
   "metadata": {},
   "source": [
    "#### Top 77 Features"
   ]
  },
  {
   "cell_type": "code",
   "execution_count": 98,
   "metadata": {},
   "outputs": [
    {
     "name": "stdout",
     "output_type": "stream",
     "text": [
      "Cross Validated Mean Train Score is: 0.8531946508172362\n",
      "Train Score is: 0.9184405940594059\n",
      "Test Score is: 0.8712871287128713\n",
      "f1 Score is: 0.051094890510948905\n",
      "Precision is: 0.03626943005181347\n",
      "Recall is: 0.08641975308641975\n"
     ]
    },
    {
     "data": {
      "text/plain": [
       "array([[1753,  186],\n",
       "       [  74,    7]])"
      ]
     },
     "execution_count": 98,
     "metadata": {},
     "output_type": "execute_result"
    }
   ],
   "source": [
    "predict, con_matrix, report, tn, fp, fn, tp, probabilities = fit_and_test(ss, best_gb_77, X_train[top_feature_col_77], X_test[top_feature_col_77], y_train, y_test)\n",
    "con_matrix"
   ]
  },
  {
   "cell_type": "markdown",
   "metadata": {},
   "source": [
    "## Voting Classifier"
   ]
  },
  {
   "cell_type": "markdown",
   "metadata": {},
   "source": [
    "Since Gradient Boosting perform the best in classifying True Negatives and NaiveBayes Perform best in classifying True Positives, we will combine both to get a combined result."
   ]
  },
  {
   "cell_type": "code",
   "execution_count": 99,
   "metadata": {},
   "outputs": [],
   "source": [
    "vc = VotingClassifier(estimators=[('gb', GradientBoostingClassifier(learning_rate = 1, n_estimators = 25, max_depth = 50, max_features = 'log2', min_samples_leaf = 10, min_samples_split = 20)), ('lr',LogisticRegression(C = 1, class_weight = \"balanced\", penalty = 'l1', n_jobs = -1))], voting='soft', n_jobs = -1)"
   ]
  },
  {
   "cell_type": "code",
   "execution_count": 100,
   "metadata": {},
   "outputs": [
    {
     "name": "stdout",
     "output_type": "stream",
     "text": [
      "Cross Validated Mean Train Score is: 0.8028231797919763\n",
      "Train Score is: 0.9998762376237624\n",
      "Test Score is: 0.939108910891089\n",
      "f1 Score is: 0.015999999999999997\n",
      "Precision is: 0.022727272727272728\n",
      "Recall is: 0.012345679012345678\n"
     ]
    },
    {
     "data": {
      "text/plain": [
       "array([[1896,   43],\n",
       "       [  80,    1]])"
      ]
     },
     "execution_count": 100,
     "metadata": {},
     "output_type": "execute_result"
    }
   ],
   "source": [
    "predict, con_matrix, report, tn, fp, fn, tp, probabilities = fit_and_test(ss, vc, X_train[top_feature_col_27], X_test[top_feature_col_27], y_train, y_test)\n",
    "con_matrix"
   ]
  },
  {
   "cell_type": "code",
   "execution_count": 101,
   "metadata": {},
   "outputs": [
    {
     "name": "stdout",
     "output_type": "stream",
     "text": [
      "Cross Validated Mean Train Score is: 0.8448736998514115\n",
      "Train Score is: 0.9133663366336634\n",
      "Test Score is: 0.7975247524752476\n",
      "f1 Score is: 0.05542725173210161\n",
      "Precision is: 0.03409090909090909\n",
      "Recall is: 0.14814814814814814\n"
     ]
    },
    {
     "data": {
      "text/plain": [
       "array([[1599,  340],\n",
       "       [  69,   12]])"
      ]
     },
     "execution_count": 101,
     "metadata": {},
     "output_type": "execute_result"
    }
   ],
   "source": [
    "predict, con_matrix, report, tn, fp, fn, tp, probabilities = fit_and_test(ss, vc, X_train[top_feature_col_52], X_test[top_feature_col_52], y_train, y_test)\n",
    "con_matrix"
   ]
  },
  {
   "cell_type": "code",
   "execution_count": 102,
   "metadata": {},
   "outputs": [
    {
     "name": "stdout",
     "output_type": "stream",
     "text": [
      "Cross Validated Mean Train Score is: 0.8401188707280832\n",
      "Train Score is: 0.9107673267326732\n",
      "Test Score is: 0.8024752475247525\n",
      "f1 Score is: 0.09932279909706546\n",
      "Precision is: 0.06077348066298342\n",
      "Recall is: 0.2716049382716049\n"
     ]
    },
    {
     "data": {
      "text/plain": [
       "array([[1599,  340],\n",
       "       [  59,   22]])"
      ]
     },
     "execution_count": 102,
     "metadata": {},
     "output_type": "execute_result"
    }
   ],
   "source": [
    "predict, con_matrix, report, tn, fp, fn, tp, probabilities = fit_and_test(ss, vc, X_train[top_feature_col_77], X_test[top_feature_col_77], y_train, y_test)\n",
    "con_matrix"
   ]
  },
  {
   "cell_type": "markdown",
   "metadata": {},
   "source": [
    "The results from the confusion matrix seen from these classification models are horrible. It is not able to classify the reversal points from non reversal points. Hence, we shall change our strategy, and predict the prices and use it to classify the reversal points."
   ]
  }
 ],
 "metadata": {
  "kernelspec": {
   "display_name": "Python 3",
   "language": "python",
   "name": "python3"
  },
  "language_info": {
   "codemirror_mode": {
    "name": "ipython",
    "version": 3
   },
   "file_extension": ".py",
   "mimetype": "text/x-python",
   "name": "python",
   "nbconvert_exporter": "python",
   "pygments_lexer": "ipython3",
   "version": "3.7.3"
  },
  "toc": {
   "base_numbering": 1,
   "nav_menu": {},
   "number_sections": true,
   "sideBar": true,
   "skip_h1_title": false,
   "title_cell": "Table of Contents",
   "title_sidebar": "Contents",
   "toc_cell": false,
   "toc_position": {},
   "toc_section_display": true,
   "toc_window_display": true
  },
  "varInspector": {
   "cols": {
    "lenName": 16,
    "lenType": 16,
    "lenVar": 40
   },
   "kernels_config": {
    "python": {
     "delete_cmd_postfix": "",
     "delete_cmd_prefix": "del ",
     "library": "var_list.py",
     "varRefreshCmd": "print(var_dic_list())"
    },
    "r": {
     "delete_cmd_postfix": ") ",
     "delete_cmd_prefix": "rm(",
     "library": "var_list.r",
     "varRefreshCmd": "cat(var_dic_list()) "
    }
   },
   "types_to_exclude": [
    "module",
    "function",
    "builtin_function_or_method",
    "instance",
    "_Feature"
   ],
   "window_display": false
  }
 },
 "nbformat": 4,
 "nbformat_minor": 2
}
